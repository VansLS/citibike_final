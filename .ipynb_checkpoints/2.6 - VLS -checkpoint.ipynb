{
 "cells": [
  {
   "cell_type": "code",
   "execution_count": 206,
   "id": "b94b5dbc-410c-4ed2-bdf9-dcfb695c310f",
   "metadata": {
    "scrolled": true
   },
   "outputs": [],
   "source": [
    "import pandas as pd\n",
    "import numpy as np\n",
    "import plotly.express as px\n",
    "from plotly.subplots import make_subplots\n",
    "import plotly.graph_objects as go\n",
    "import matplotlib.pyplot as plt\n",
    "from datetime import datetime as dt\n",
    "import streamlit as st\n",
    "from streamlit_keplergl import keplergl_static"
   ]
  },
  {
   "cell_type": "code",
   "execution_count": 207,
   "id": "c523792e-8900-450a-8897-ea95ebecef3f",
   "metadata": {
    "scrolled": true
   },
   "outputs": [
    {
     "name": "stderr",
     "output_type": "stream",
     "text": [
      "/var/folders/1g/ch7w9_k56pj78tjf9gzlt8zm0000gn/T/ipykernel_18329/175104272.py:1: DtypeWarning:\n",
      "\n",
      "Columns (5,7) have mixed types. Specify dtype option on import or set low_memory=False.\n",
      "\n"
     ]
    }
   ],
   "source": [
    "df=pd.read_csv ('largedata_weather_trips_2022.csv', usecols=['ride_id','start_station_name', 'start_station_id' , \n",
    "                                                             'end_station_name', 'end_station_id' , 'DATE', 'TAVG'])"
   ]
  },
  {
   "cell_type": "code",
   "execution_count": 208,
   "id": "472ad84b-0257-4bb2-a348-2a626bde0e91",
   "metadata": {},
   "outputs": [
    {
     "data": {
      "text/html": [
       "<div>\n",
       "<style scoped>\n",
       "    .dataframe tbody tr th:only-of-type {\n",
       "        vertical-align: middle;\n",
       "    }\n",
       "\n",
       "    .dataframe tbody tr th {\n",
       "        vertical-align: top;\n",
       "    }\n",
       "\n",
       "    .dataframe thead th {\n",
       "        text-align: right;\n",
       "    }\n",
       "</style>\n",
       "<table border=\"1\" class=\"dataframe\">\n",
       "  <thead>\n",
       "    <tr style=\"text-align: right;\">\n",
       "      <th></th>\n",
       "      <th>ride_id</th>\n",
       "      <th>start_station_name</th>\n",
       "      <th>start_station_id</th>\n",
       "      <th>end_station_name</th>\n",
       "      <th>end_station_id</th>\n",
       "      <th>DATE</th>\n",
       "      <th>TAVG</th>\n",
       "    </tr>\n",
       "  </thead>\n",
       "  <tbody>\n",
       "    <tr>\n",
       "      <th>0</th>\n",
       "      <td>DF208007EE5F9D79</td>\n",
       "      <td>Berkeley Pl &amp; 6 Ave</td>\n",
       "      <td>4134.06</td>\n",
       "      <td>Windsor Pl &amp; 8 Ave</td>\n",
       "      <td>3620.02</td>\n",
       "      <td>2022-08-26</td>\n",
       "      <td>81</td>\n",
       "    </tr>\n",
       "    <tr>\n",
       "      <th>1</th>\n",
       "      <td>48A796B4996BACB0</td>\n",
       "      <td>21 St &amp; 4 Ave</td>\n",
       "      <td>3668.04</td>\n",
       "      <td>Degraw St &amp; Smith St</td>\n",
       "      <td>4298.05</td>\n",
       "      <td>2022-08-03</td>\n",
       "      <td>82</td>\n",
       "    </tr>\n",
       "    <tr>\n",
       "      <th>2</th>\n",
       "      <td>AE459F435C0B1D5B</td>\n",
       "      <td>48 St &amp; Barnett Ave</td>\n",
       "      <td>6358.05</td>\n",
       "      <td>Queens Plaza North &amp; Crescent St</td>\n",
       "      <td>6429.01</td>\n",
       "      <td>2022-08-11</td>\n",
       "      <td>80</td>\n",
       "    </tr>\n",
       "    <tr>\n",
       "      <th>3</th>\n",
       "      <td>CA8B4A94620E74C0</td>\n",
       "      <td>7 Ave &amp; Central Park South</td>\n",
       "      <td>6912.01</td>\n",
       "      <td>8 Ave &amp; W 33 St</td>\n",
       "      <td>6450.12</td>\n",
       "      <td>2022-08-10</td>\n",
       "      <td>81</td>\n",
       "    </tr>\n",
       "    <tr>\n",
       "      <th>4</th>\n",
       "      <td>EB85C6F0148BC348</td>\n",
       "      <td>Jerome Ave &amp; W 195 St</td>\n",
       "      <td>8653.09</td>\n",
       "      <td>Sherman Ave &amp; E 166 St</td>\n",
       "      <td>8072.06</td>\n",
       "      <td>2022-08-31</td>\n",
       "      <td>78</td>\n",
       "    </tr>\n",
       "  </tbody>\n",
       "</table>\n",
       "</div>"
      ],
      "text/plain": [
       "            ride_id          start_station_name start_station_id  \\\n",
       "0  DF208007EE5F9D79         Berkeley Pl & 6 Ave          4134.06   \n",
       "1  48A796B4996BACB0               21 St & 4 Ave          3668.04   \n",
       "2  AE459F435C0B1D5B         48 St & Barnett Ave          6358.05   \n",
       "3  CA8B4A94620E74C0  7 Ave & Central Park South          6912.01   \n",
       "4  EB85C6F0148BC348       Jerome Ave & W 195 St          8653.09   \n",
       "\n",
       "                   end_station_name end_station_id        DATE  TAVG  \n",
       "0                Windsor Pl & 8 Ave        3620.02  2022-08-26    81  \n",
       "1              Degraw St & Smith St        4298.05  2022-08-03    82  \n",
       "2  Queens Plaza North & Crescent St        6429.01  2022-08-11    80  \n",
       "3                   8 Ave & W 33 St        6450.12  2022-08-10    81  \n",
       "4            Sherman Ave & E 166 St        8072.06  2022-08-31    78  "
      ]
     },
     "execution_count": 208,
     "metadata": {},
     "output_type": "execute_result"
    }
   ],
   "source": [
    "df.head()"
   ]
  },
  {
   "cell_type": "code",
   "execution_count": 209,
   "id": "5dcbcbd7-d992-4b97-9b54-a49481d8f7c0",
   "metadata": {},
   "outputs": [],
   "source": [
    "#create a month column\n",
    "\n",
    "df['date'] = pd.to_datetime(df['DATE'],format = '%Y-%m-%d')\n",
    "df['month'] = df ['date'].dt.month\n",
    "df['month'] = df['month'].astype('int')"
   ]
  },
  {
   "cell_type": "code",
   "execution_count": 210,
   "id": "dd5ccd6f-a8b9-4546-979f-62562d72d70a",
   "metadata": {},
   "outputs": [
    {
     "data": {
      "text/html": [
       "<div>\n",
       "<style scoped>\n",
       "    .dataframe tbody tr th:only-of-type {\n",
       "        vertical-align: middle;\n",
       "    }\n",
       "\n",
       "    .dataframe tbody tr th {\n",
       "        vertical-align: top;\n",
       "    }\n",
       "\n",
       "    .dataframe thead th {\n",
       "        text-align: right;\n",
       "    }\n",
       "</style>\n",
       "<table border=\"1\" class=\"dataframe\">\n",
       "  <thead>\n",
       "    <tr style=\"text-align: right;\">\n",
       "      <th></th>\n",
       "      <th>ride_id</th>\n",
       "      <th>start_station_name</th>\n",
       "      <th>start_station_id</th>\n",
       "      <th>end_station_name</th>\n",
       "      <th>end_station_id</th>\n",
       "      <th>TAVG</th>\n",
       "      <th>date</th>\n",
       "      <th>month</th>\n",
       "    </tr>\n",
       "  </thead>\n",
       "  <tbody>\n",
       "    <tr>\n",
       "      <th>0</th>\n",
       "      <td>DF208007EE5F9D79</td>\n",
       "      <td>Berkeley Pl &amp; 6 Ave</td>\n",
       "      <td>4134.06</td>\n",
       "      <td>Windsor Pl &amp; 8 Ave</td>\n",
       "      <td>3620.02</td>\n",
       "      <td>81</td>\n",
       "      <td>2022-08-26</td>\n",
       "      <td>8</td>\n",
       "    </tr>\n",
       "    <tr>\n",
       "      <th>1</th>\n",
       "      <td>48A796B4996BACB0</td>\n",
       "      <td>21 St &amp; 4 Ave</td>\n",
       "      <td>3668.04</td>\n",
       "      <td>Degraw St &amp; Smith St</td>\n",
       "      <td>4298.05</td>\n",
       "      <td>82</td>\n",
       "      <td>2022-08-03</td>\n",
       "      <td>8</td>\n",
       "    </tr>\n",
       "    <tr>\n",
       "      <th>2</th>\n",
       "      <td>AE459F435C0B1D5B</td>\n",
       "      <td>48 St &amp; Barnett Ave</td>\n",
       "      <td>6358.05</td>\n",
       "      <td>Queens Plaza North &amp; Crescent St</td>\n",
       "      <td>6429.01</td>\n",
       "      <td>80</td>\n",
       "      <td>2022-08-11</td>\n",
       "      <td>8</td>\n",
       "    </tr>\n",
       "    <tr>\n",
       "      <th>3</th>\n",
       "      <td>CA8B4A94620E74C0</td>\n",
       "      <td>7 Ave &amp; Central Park South</td>\n",
       "      <td>6912.01</td>\n",
       "      <td>8 Ave &amp; W 33 St</td>\n",
       "      <td>6450.12</td>\n",
       "      <td>81</td>\n",
       "      <td>2022-08-10</td>\n",
       "      <td>8</td>\n",
       "    </tr>\n",
       "    <tr>\n",
       "      <th>4</th>\n",
       "      <td>EB85C6F0148BC348</td>\n",
       "      <td>Jerome Ave &amp; W 195 St</td>\n",
       "      <td>8653.09</td>\n",
       "      <td>Sherman Ave &amp; E 166 St</td>\n",
       "      <td>8072.06</td>\n",
       "      <td>78</td>\n",
       "      <td>2022-08-31</td>\n",
       "      <td>8</td>\n",
       "    </tr>\n",
       "  </tbody>\n",
       "</table>\n",
       "</div>"
      ],
      "text/plain": [
       "            ride_id          start_station_name start_station_id  \\\n",
       "0  DF208007EE5F9D79         Berkeley Pl & 6 Ave          4134.06   \n",
       "1  48A796B4996BACB0               21 St & 4 Ave          3668.04   \n",
       "2  AE459F435C0B1D5B         48 St & Barnett Ave          6358.05   \n",
       "3  CA8B4A94620E74C0  7 Ave & Central Park South          6912.01   \n",
       "4  EB85C6F0148BC348       Jerome Ave & W 195 St          8653.09   \n",
       "\n",
       "                   end_station_name end_station_id  TAVG       date  month  \n",
       "0                Windsor Pl & 8 Ave        3620.02    81 2022-08-26      8  \n",
       "1              Degraw St & Smith St        4298.05    82 2022-08-03      8  \n",
       "2  Queens Plaza North & Crescent St        6429.01    80 2022-08-11      8  \n",
       "3                   8 Ave & W 33 St        6450.12    81 2022-08-10      8  \n",
       "4            Sherman Ave & E 166 St        8072.06    78 2022-08-31      8  "
      ]
     },
     "execution_count": 210,
     "metadata": {},
     "output_type": "execute_result"
    }
   ],
   "source": [
    "df=df.drop(columns=['DATE'])\n",
    "df.head()"
   ]
  },
  {
   "cell_type": "code",
   "execution_count": 211,
   "id": "d99bc77c-5fa5-4624-bf5c-0980de6dabdf",
   "metadata": {},
   "outputs": [],
   "source": [
    "#create season column\n",
    "df['season'] = [\n",
    "    'winter' if (month == 12 or 1 <= month <= 4)\n",
    "    else 'spring' if (4< month <= 5 )\n",
    "    else 'summer' if ( 6 <= month <= 9)\n",
    "    else 'fall'\n",
    "for month in df['month']]"
   ]
  },
  {
   "cell_type": "code",
   "execution_count": 212,
   "id": "7fc273f3-be67-4004-ae39-ce6cf336f935",
   "metadata": {
    "scrolled": true
   },
   "outputs": [
    {
     "data": {
      "text/html": [
       "<div>\n",
       "<style scoped>\n",
       "    .dataframe tbody tr th:only-of-type {\n",
       "        vertical-align: middle;\n",
       "    }\n",
       "\n",
       "    .dataframe tbody tr th {\n",
       "        vertical-align: top;\n",
       "    }\n",
       "\n",
       "    .dataframe thead th {\n",
       "        text-align: right;\n",
       "    }\n",
       "</style>\n",
       "<table border=\"1\" class=\"dataframe\">\n",
       "  <thead>\n",
       "    <tr style=\"text-align: right;\">\n",
       "      <th></th>\n",
       "      <th>ride_id</th>\n",
       "      <th>start_station_name</th>\n",
       "      <th>start_station_id</th>\n",
       "      <th>end_station_name</th>\n",
       "      <th>end_station_id</th>\n",
       "      <th>TAVG</th>\n",
       "      <th>date</th>\n",
       "      <th>month</th>\n",
       "      <th>season</th>\n",
       "    </tr>\n",
       "  </thead>\n",
       "  <tbody>\n",
       "    <tr>\n",
       "      <th>0</th>\n",
       "      <td>DF208007EE5F9D79</td>\n",
       "      <td>Berkeley Pl &amp; 6 Ave</td>\n",
       "      <td>4134.06</td>\n",
       "      <td>Windsor Pl &amp; 8 Ave</td>\n",
       "      <td>3620.02</td>\n",
       "      <td>81</td>\n",
       "      <td>2022-08-26</td>\n",
       "      <td>8</td>\n",
       "      <td>summer</td>\n",
       "    </tr>\n",
       "    <tr>\n",
       "      <th>1</th>\n",
       "      <td>48A796B4996BACB0</td>\n",
       "      <td>21 St &amp; 4 Ave</td>\n",
       "      <td>3668.04</td>\n",
       "      <td>Degraw St &amp; Smith St</td>\n",
       "      <td>4298.05</td>\n",
       "      <td>82</td>\n",
       "      <td>2022-08-03</td>\n",
       "      <td>8</td>\n",
       "      <td>summer</td>\n",
       "    </tr>\n",
       "    <tr>\n",
       "      <th>2</th>\n",
       "      <td>AE459F435C0B1D5B</td>\n",
       "      <td>48 St &amp; Barnett Ave</td>\n",
       "      <td>6358.05</td>\n",
       "      <td>Queens Plaza North &amp; Crescent St</td>\n",
       "      <td>6429.01</td>\n",
       "      <td>80</td>\n",
       "      <td>2022-08-11</td>\n",
       "      <td>8</td>\n",
       "      <td>summer</td>\n",
       "    </tr>\n",
       "    <tr>\n",
       "      <th>3</th>\n",
       "      <td>CA8B4A94620E74C0</td>\n",
       "      <td>7 Ave &amp; Central Park South</td>\n",
       "      <td>6912.01</td>\n",
       "      <td>8 Ave &amp; W 33 St</td>\n",
       "      <td>6450.12</td>\n",
       "      <td>81</td>\n",
       "      <td>2022-08-10</td>\n",
       "      <td>8</td>\n",
       "      <td>summer</td>\n",
       "    </tr>\n",
       "    <tr>\n",
       "      <th>4</th>\n",
       "      <td>EB85C6F0148BC348</td>\n",
       "      <td>Jerome Ave &amp; W 195 St</td>\n",
       "      <td>8653.09</td>\n",
       "      <td>Sherman Ave &amp; E 166 St</td>\n",
       "      <td>8072.06</td>\n",
       "      <td>78</td>\n",
       "      <td>2022-08-31</td>\n",
       "      <td>8</td>\n",
       "      <td>summer</td>\n",
       "    </tr>\n",
       "  </tbody>\n",
       "</table>\n",
       "</div>"
      ],
      "text/plain": [
       "            ride_id          start_station_name start_station_id  \\\n",
       "0  DF208007EE5F9D79         Berkeley Pl & 6 Ave          4134.06   \n",
       "1  48A796B4996BACB0               21 St & 4 Ave          3668.04   \n",
       "2  AE459F435C0B1D5B         48 St & Barnett Ave          6358.05   \n",
       "3  CA8B4A94620E74C0  7 Ave & Central Park South          6912.01   \n",
       "4  EB85C6F0148BC348       Jerome Ave & W 195 St          8653.09   \n",
       "\n",
       "                   end_station_name end_station_id  TAVG       date  month  \\\n",
       "0                Windsor Pl & 8 Ave        3620.02    81 2022-08-26      8   \n",
       "1              Degraw St & Smith St        4298.05    82 2022-08-03      8   \n",
       "2  Queens Plaza North & Crescent St        6429.01    80 2022-08-11      8   \n",
       "3                   8 Ave & W 33 St        6450.12    81 2022-08-10      8   \n",
       "4            Sherman Ave & E 166 St        8072.06    78 2022-08-31      8   \n",
       "\n",
       "   season  \n",
       "0  summer  \n",
       "1  summer  \n",
       "2  summer  \n",
       "3  summer  \n",
       "4  summer  "
      ]
     },
     "execution_count": 212,
     "metadata": {},
     "output_type": "execute_result"
    }
   ],
   "source": [
    "df.head()"
   ]
  },
  {
   "cell_type": "code",
   "execution_count": 213,
   "id": "edf119bb-4397-425a-abae-ccf87d1f5192",
   "metadata": {},
   "outputs": [],
   "source": [
    "#top 20 stations\n",
    "df['value'] = 1\n",
    "df_groupby_bar = df.groupby('start_station_name', as_index=False).agg({'value':'sum'})\n",
    "top20 = df_groupby_bar.nlargest(20, 'value')"
   ]
  },
  {
   "cell_type": "code",
   "execution_count": 215,
   "id": "a1435e3c-8098-4f97-8455-41588b074d7d",
   "metadata": {
    "collapsed": true,
    "jupyter": {
     "outputs_hidden": true
    }
   },
   "outputs": [
    {
     "data": {
      "text/html": [
       "<div>\n",
       "<style scoped>\n",
       "    .dataframe tbody tr th:only-of-type {\n",
       "        vertical-align: middle;\n",
       "    }\n",
       "\n",
       "    .dataframe tbody tr th {\n",
       "        vertical-align: top;\n",
       "    }\n",
       "\n",
       "    .dataframe thead th {\n",
       "        text-align: right;\n",
       "    }\n",
       "</style>\n",
       "<table border=\"1\" class=\"dataframe\">\n",
       "  <thead>\n",
       "    <tr style=\"text-align: right;\">\n",
       "      <th></th>\n",
       "      <th>start_station_name</th>\n",
       "      <th>value</th>\n",
       "    </tr>\n",
       "  </thead>\n",
       "  <tbody>\n",
       "    <tr>\n",
       "      <th>1587</th>\n",
       "      <td>W 21 St &amp; 6 Ave</td>\n",
       "      <td>131679</td>\n",
       "    </tr>\n",
       "    <tr>\n",
       "      <th>1718</th>\n",
       "      <td>West St &amp; Chambers St</td>\n",
       "      <td>126290</td>\n",
       "    </tr>\n",
       "    <tr>\n",
       "      <th>495</th>\n",
       "      <td>Broadway &amp; W 58 St</td>\n",
       "      <td>117797</td>\n",
       "    </tr>\n",
       "    <tr>\n",
       "      <th>286</th>\n",
       "      <td>6 Ave &amp; W 33 St</td>\n",
       "      <td>109542</td>\n",
       "    </tr>\n",
       "    <tr>\n",
       "      <th>8</th>\n",
       "      <td>1 Ave &amp; E 68 St</td>\n",
       "      <td>108412</td>\n",
       "    </tr>\n",
       "    <tr>\n",
       "      <th>461</th>\n",
       "      <td>Broadway &amp; E 14 St</td>\n",
       "      <td>101115</td>\n",
       "    </tr>\n",
       "    <tr>\n",
       "      <th>485</th>\n",
       "      <td>Broadway &amp; W 25 St</td>\n",
       "      <td>100784</td>\n",
       "    </tr>\n",
       "    <tr>\n",
       "      <th>1511</th>\n",
       "      <td>University Pl &amp; E 14 St</td>\n",
       "      <td>100089</td>\n",
       "    </tr>\n",
       "    <tr>\n",
       "      <th>463</th>\n",
       "      <td>Broadway &amp; E 21 St</td>\n",
       "      <td>97958</td>\n",
       "    </tr>\n",
       "    <tr>\n",
       "      <th>1603</th>\n",
       "      <td>W 31 St &amp; 7 Ave</td>\n",
       "      <td>96157</td>\n",
       "    </tr>\n",
       "    <tr>\n",
       "      <th>788</th>\n",
       "      <td>E 33 St &amp; 1 Ave</td>\n",
       "      <td>93955</td>\n",
       "    </tr>\n",
       "    <tr>\n",
       "      <th>590</th>\n",
       "      <td>Cleveland Pl &amp; Spring St</td>\n",
       "      <td>92880</td>\n",
       "    </tr>\n",
       "    <tr>\n",
       "      <th>29</th>\n",
       "      <td>12 Ave &amp; W 40 St</td>\n",
       "      <td>92550</td>\n",
       "    </tr>\n",
       "    <tr>\n",
       "      <th>287</th>\n",
       "      <td>6 Ave &amp; W 34 St</td>\n",
       "      <td>92487</td>\n",
       "    </tr>\n",
       "    <tr>\n",
       "      <th>24</th>\n",
       "      <td>11 Ave &amp; W 41 St</td>\n",
       "      <td>90159</td>\n",
       "    </tr>\n",
       "    <tr>\n",
       "      <th>1719</th>\n",
       "      <td>West St &amp; Liberty St</td>\n",
       "      <td>89417</td>\n",
       "    </tr>\n",
       "    <tr>\n",
       "      <th>1105</th>\n",
       "      <td>Lafayette St &amp; E 8 St</td>\n",
       "      <td>89318</td>\n",
       "    </tr>\n",
       "    <tr>\n",
       "      <th>562</th>\n",
       "      <td>Central Park S &amp; 6 Ave</td>\n",
       "      <td>89062</td>\n",
       "    </tr>\n",
       "    <tr>\n",
       "      <th>328</th>\n",
       "      <td>8 Ave &amp; W 33 St</td>\n",
       "      <td>88789</td>\n",
       "    </tr>\n",
       "    <tr>\n",
       "      <th>796</th>\n",
       "      <td>E 40 St &amp; Park Ave</td>\n",
       "      <td>87752</td>\n",
       "    </tr>\n",
       "  </tbody>\n",
       "</table>\n",
       "</div>"
      ],
      "text/plain": [
       "            start_station_name   value\n",
       "1587           W 21 St & 6 Ave  131679\n",
       "1718     West St & Chambers St  126290\n",
       "495         Broadway & W 58 St  117797\n",
       "286            6 Ave & W 33 St  109542\n",
       "8              1 Ave & E 68 St  108412\n",
       "461         Broadway & E 14 St  101115\n",
       "485         Broadway & W 25 St  100784\n",
       "1511   University Pl & E 14 St  100089\n",
       "463         Broadway & E 21 St   97958\n",
       "1603           W 31 St & 7 Ave   96157\n",
       "788            E 33 St & 1 Ave   93955\n",
       "590   Cleveland Pl & Spring St   92880\n",
       "29            12 Ave & W 40 St   92550\n",
       "287            6 Ave & W 34 St   92487\n",
       "24            11 Ave & W 41 St   90159\n",
       "1719      West St & Liberty St   89417\n",
       "1105     Lafayette St & E 8 St   89318\n",
       "562     Central Park S & 6 Ave   89062\n",
       "328            8 Ave & W 33 St   88789\n",
       "796         E 40 St & Park Ave   87752"
      ]
     },
     "execution_count": 215,
     "metadata": {},
     "output_type": "execute_result"
    }
   ],
   "source": [
    "top20.head(20)"
   ]
  },
  {
   "cell_type": "code",
   "execution_count": 216,
   "id": "d66cfe12-bb0a-43b5-87f9-57a3ae65b53d",
   "metadata": {},
   "outputs": [],
   "source": [
    "import plotly.io as pio\n",
    "pio.renderers.default = 'iframe'"
   ]
  },
  {
   "cell_type": "markdown",
   "id": "689028ee-ca29-47db-86fa-4af5deb8c433",
   "metadata": {},
   "source": [
    "#### bar chart of top 20 stations\n"
   ]
  },
  {
   "cell_type": "code",
   "execution_count": 217,
   "id": "a19e6b53-d070-44f7-86cf-d90233c71002",
   "metadata": {
    "scrolled": true
   },
   "outputs": [
    {
     "data": {
      "text/html": [
       "<iframe\n",
       "    scrolling=\"no\"\n",
       "    width=\"100%\"\n",
       "    height=\"545px\"\n",
       "    src=\"iframe_figures/figure_217.html\"\n",
       "    frameborder=\"0\"\n",
       "    allowfullscreen\n",
       "></iframe>\n"
      ]
     },
     "metadata": {},
     "output_type": "display_data"
    }
   ],
   "source": [
    "fig = go.Figure(go.Bar(x = top20['start_station_name'], y = top20['value'], marker={'color': top20['value'],'colorscale': 'Blues'}))\n",
    "fig.show()"
   ]
  },
  {
   "cell_type": "code",
   "execution_count": 218,
   "id": "ed49106f-b07a-41e4-b300-c88c898a5b6b",
   "metadata": {
    "scrolled": true
   },
   "outputs": [
    {
     "data": {
      "text/html": [
       "<iframe\n",
       "    scrolling=\"no\"\n",
       "    width=\"920px\"\n",
       "    height=\"620\"\n",
       "    src=\"iframe_figures/figure_218.html\"\n",
       "    frameborder=\"0\"\n",
       "    allowfullscreen\n",
       "></iframe>\n"
      ]
     },
     "metadata": {},
     "output_type": "display_data"
    }
   ],
   "source": [
    "fig.update_layout(\n",
    "    title = 'Top 20 bike stations in New York',\n",
    "    xaxis_title = 'Start stations',\n",
    "    yaxis_title ='Sum of trips',\n",
    "    width = 900, height = 600\n",
    ")"
   ]
  },
  {
   "cell_type": "code",
   "execution_count": 322,
   "id": "d90772cc-85db-4801-b7c6-e514b227bfd5",
   "metadata": {},
   "outputs": [
    {
     "data": {
      "text/plain": [
       "1173"
      ]
     },
     "execution_count": 322,
     "metadata": {},
     "output_type": "execute_result"
    }
   ],
   "source": [
    "import gc  # This imports the garbage collector module.\n",
    "gc.collect()  # This triggers the garbage collector to free up memory."
   ]
  },
  {
   "cell_type": "code",
   "execution_count": 220,
   "id": "348817fe-53b8-4f36-9ff0-b47f7344559c",
   "metadata": {},
   "outputs": [
    {
     "data": {
      "text/html": [
       "<div>\n",
       "<style scoped>\n",
       "    .dataframe tbody tr th:only-of-type {\n",
       "        vertical-align: middle;\n",
       "    }\n",
       "\n",
       "    .dataframe tbody tr th {\n",
       "        vertical-align: top;\n",
       "    }\n",
       "\n",
       "    .dataframe thead th {\n",
       "        text-align: right;\n",
       "    }\n",
       "</style>\n",
       "<table border=\"1\" class=\"dataframe\">\n",
       "  <thead>\n",
       "    <tr style=\"text-align: right;\">\n",
       "      <th></th>\n",
       "      <th>ride_id</th>\n",
       "      <th>start_station_name</th>\n",
       "      <th>start_station_id</th>\n",
       "      <th>end_station_name</th>\n",
       "      <th>end_station_id</th>\n",
       "      <th>TAVG</th>\n",
       "      <th>date</th>\n",
       "      <th>month</th>\n",
       "      <th>season</th>\n",
       "      <th>value</th>\n",
       "    </tr>\n",
       "  </thead>\n",
       "  <tbody>\n",
       "    <tr>\n",
       "      <th>0</th>\n",
       "      <td>DF208007EE5F9D79</td>\n",
       "      <td>Berkeley Pl &amp; 6 Ave</td>\n",
       "      <td>4134.06</td>\n",
       "      <td>Windsor Pl &amp; 8 Ave</td>\n",
       "      <td>3620.02</td>\n",
       "      <td>81</td>\n",
       "      <td>2022-08-26</td>\n",
       "      <td>8</td>\n",
       "      <td>summer</td>\n",
       "      <td>1</td>\n",
       "    </tr>\n",
       "    <tr>\n",
       "      <th>1</th>\n",
       "      <td>48A796B4996BACB0</td>\n",
       "      <td>21 St &amp; 4 Ave</td>\n",
       "      <td>3668.04</td>\n",
       "      <td>Degraw St &amp; Smith St</td>\n",
       "      <td>4298.05</td>\n",
       "      <td>82</td>\n",
       "      <td>2022-08-03</td>\n",
       "      <td>8</td>\n",
       "      <td>summer</td>\n",
       "      <td>1</td>\n",
       "    </tr>\n",
       "    <tr>\n",
       "      <th>2</th>\n",
       "      <td>AE459F435C0B1D5B</td>\n",
       "      <td>48 St &amp; Barnett Ave</td>\n",
       "      <td>6358.05</td>\n",
       "      <td>Queens Plaza North &amp; Crescent St</td>\n",
       "      <td>6429.01</td>\n",
       "      <td>80</td>\n",
       "      <td>2022-08-11</td>\n",
       "      <td>8</td>\n",
       "      <td>summer</td>\n",
       "      <td>1</td>\n",
       "    </tr>\n",
       "    <tr>\n",
       "      <th>3</th>\n",
       "      <td>CA8B4A94620E74C0</td>\n",
       "      <td>7 Ave &amp; Central Park South</td>\n",
       "      <td>6912.01</td>\n",
       "      <td>8 Ave &amp; W 33 St</td>\n",
       "      <td>6450.12</td>\n",
       "      <td>81</td>\n",
       "      <td>2022-08-10</td>\n",
       "      <td>8</td>\n",
       "      <td>summer</td>\n",
       "      <td>1</td>\n",
       "    </tr>\n",
       "    <tr>\n",
       "      <th>4</th>\n",
       "      <td>EB85C6F0148BC348</td>\n",
       "      <td>Jerome Ave &amp; W 195 St</td>\n",
       "      <td>8653.09</td>\n",
       "      <td>Sherman Ave &amp; E 166 St</td>\n",
       "      <td>8072.06</td>\n",
       "      <td>78</td>\n",
       "      <td>2022-08-31</td>\n",
       "      <td>8</td>\n",
       "      <td>summer</td>\n",
       "      <td>1</td>\n",
       "    </tr>\n",
       "  </tbody>\n",
       "</table>\n",
       "</div>"
      ],
      "text/plain": [
       "            ride_id          start_station_name start_station_id  \\\n",
       "0  DF208007EE5F9D79         Berkeley Pl & 6 Ave          4134.06   \n",
       "1  48A796B4996BACB0               21 St & 4 Ave          3668.04   \n",
       "2  AE459F435C0B1D5B         48 St & Barnett Ave          6358.05   \n",
       "3  CA8B4A94620E74C0  7 Ave & Central Park South          6912.01   \n",
       "4  EB85C6F0148BC348       Jerome Ave & W 195 St          8653.09   \n",
       "\n",
       "                   end_station_name end_station_id  TAVG       date  month  \\\n",
       "0                Windsor Pl & 8 Ave        3620.02    81 2022-08-26      8   \n",
       "1              Degraw St & Smith St        4298.05    82 2022-08-03      8   \n",
       "2  Queens Plaza North & Crescent St        6429.01    80 2022-08-11      8   \n",
       "3                   8 Ave & W 33 St        6450.12    81 2022-08-10      8   \n",
       "4            Sherman Ave & E 166 St        8072.06    78 2022-08-31      8   \n",
       "\n",
       "   season  value  \n",
       "0  summer      1  \n",
       "1  summer      1  \n",
       "2  summer      1  \n",
       "3  summer      1  \n",
       "4  summer      1  "
      ]
     },
     "execution_count": 220,
     "metadata": {},
     "output_type": "execute_result"
    }
   ],
   "source": [
    "df.head()"
   ]
  },
  {
   "cell_type": "code",
   "execution_count": 252,
   "id": "44de2bbd-e075-4bed-8bff-8f53a68fa3b2",
   "metadata": {},
   "outputs": [],
   "source": [
    "df_1= df.drop(columns = ['start_station_name' , 'start_station_id',  \n",
    "'end_station_name' , 'end_station_id','month' , 'season', 'value'])"
   ]
  },
  {
   "cell_type": "code",
   "execution_count": 254,
   "id": "51c61c75-0625-4deb-bc0e-8b14b1ab032b",
   "metadata": {},
   "outputs": [
    {
     "data": {
      "text/html": [
       "<div>\n",
       "<style scoped>\n",
       "    .dataframe tbody tr th:only-of-type {\n",
       "        vertical-align: middle;\n",
       "    }\n",
       "\n",
       "    .dataframe tbody tr th {\n",
       "        vertical-align: top;\n",
       "    }\n",
       "\n",
       "    .dataframe thead th {\n",
       "        text-align: right;\n",
       "    }\n",
       "</style>\n",
       "<table border=\"1\" class=\"dataframe\">\n",
       "  <thead>\n",
       "    <tr style=\"text-align: right;\">\n",
       "      <th></th>\n",
       "      <th>ride_id</th>\n",
       "      <th>TAVG</th>\n",
       "      <th>date</th>\n",
       "    </tr>\n",
       "  </thead>\n",
       "  <tbody>\n",
       "    <tr>\n",
       "      <th>0</th>\n",
       "      <td>DF208007EE5F9D79</td>\n",
       "      <td>81</td>\n",
       "      <td>2022-08-26</td>\n",
       "    </tr>\n",
       "    <tr>\n",
       "      <th>1</th>\n",
       "      <td>48A796B4996BACB0</td>\n",
       "      <td>82</td>\n",
       "      <td>2022-08-03</td>\n",
       "    </tr>\n",
       "    <tr>\n",
       "      <th>2</th>\n",
       "      <td>AE459F435C0B1D5B</td>\n",
       "      <td>80</td>\n",
       "      <td>2022-08-11</td>\n",
       "    </tr>\n",
       "    <tr>\n",
       "      <th>3</th>\n",
       "      <td>CA8B4A94620E74C0</td>\n",
       "      <td>81</td>\n",
       "      <td>2022-08-10</td>\n",
       "    </tr>\n",
       "    <tr>\n",
       "      <th>4</th>\n",
       "      <td>EB85C6F0148BC348</td>\n",
       "      <td>78</td>\n",
       "      <td>2022-08-31</td>\n",
       "    </tr>\n",
       "  </tbody>\n",
       "</table>\n",
       "</div>"
      ],
      "text/plain": [
       "            ride_id  TAVG       date\n",
       "0  DF208007EE5F9D79    81 2022-08-26\n",
       "1  48A796B4996BACB0    82 2022-08-03\n",
       "2  AE459F435C0B1D5B    80 2022-08-11\n",
       "3  CA8B4A94620E74C0    81 2022-08-10\n",
       "4  EB85C6F0148BC348    78 2022-08-31"
      ]
     },
     "execution_count": 254,
     "metadata": {},
     "output_type": "execute_result"
    }
   ],
   "source": [
    "df_1.head()"
   ]
  },
  {
   "cell_type": "code",
   "execution_count": 258,
   "id": "0beb934a-5a3e-4154-84d8-4a953164545b",
   "metadata": {},
   "outputs": [],
   "source": [
    "df_group2 = pd.DataFrame (df_1.groupby (['date'])['ride_id'].count()).reset_index()"
   ]
  },
  {
   "cell_type": "code",
   "execution_count": 260,
   "id": "73375d8c-5c25-45cb-80bb-bb418dddf6db",
   "metadata": {},
   "outputs": [
    {
     "data": {
      "text/html": [
       "<div>\n",
       "<style scoped>\n",
       "    .dataframe tbody tr th:only-of-type {\n",
       "        vertical-align: middle;\n",
       "    }\n",
       "\n",
       "    .dataframe tbody tr th {\n",
       "        vertical-align: top;\n",
       "    }\n",
       "\n",
       "    .dataframe thead th {\n",
       "        text-align: right;\n",
       "    }\n",
       "</style>\n",
       "<table border=\"1\" class=\"dataframe\">\n",
       "  <thead>\n",
       "    <tr style=\"text-align: right;\">\n",
       "      <th></th>\n",
       "      <th>date</th>\n",
       "      <th>number_of_daily_trips</th>\n",
       "    </tr>\n",
       "  </thead>\n",
       "  <tbody>\n",
       "    <tr>\n",
       "      <th>0</th>\n",
       "      <td>2022-01-01</td>\n",
       "      <td>20895</td>\n",
       "    </tr>\n",
       "    <tr>\n",
       "      <th>1</th>\n",
       "      <td>2022-01-02</td>\n",
       "      <td>44234</td>\n",
       "    </tr>\n",
       "    <tr>\n",
       "      <th>2</th>\n",
       "      <td>2022-01-03</td>\n",
       "      <td>34126</td>\n",
       "    </tr>\n",
       "    <tr>\n",
       "      <th>3</th>\n",
       "      <td>2022-01-04</td>\n",
       "      <td>37879</td>\n",
       "    </tr>\n",
       "    <tr>\n",
       "      <th>4</th>\n",
       "      <td>2022-01-05</td>\n",
       "      <td>35080</td>\n",
       "    </tr>\n",
       "  </tbody>\n",
       "</table>\n",
       "</div>"
      ],
      "text/plain": [
       "        date  number_of_daily_trips\n",
       "0 2022-01-01                  20895\n",
       "1 2022-01-02                  44234\n",
       "2 2022-01-03                  34126\n",
       "3 2022-01-04                  37879\n",
       "4 2022-01-05                  35080"
      ]
     },
     "execution_count": 260,
     "metadata": {},
     "output_type": "execute_result"
    }
   ],
   "source": [
    "df_group2 = df_group2.rename(columns={'ride_id':'number_of_daily_trips'})\n",
    "df_group2.head()"
   ]
  },
  {
   "cell_type": "code",
   "execution_count": 262,
   "id": "714bb865-6fb7-47ab-8f55-2c3adb113e67",
   "metadata": {},
   "outputs": [],
   "source": [
    "df_1=pd.merge(df_group2, df_1, on = 'date', how = 'inner')"
   ]
  },
  {
   "cell_type": "code",
   "execution_count": 264,
   "id": "f332edf4-3194-49ab-8c97-f5e3cb65e0de",
   "metadata": {},
   "outputs": [
    {
     "data": {
      "text/html": [
       "<div>\n",
       "<style scoped>\n",
       "    .dataframe tbody tr th:only-of-type {\n",
       "        vertical-align: middle;\n",
       "    }\n",
       "\n",
       "    .dataframe tbody tr th {\n",
       "        vertical-align: top;\n",
       "    }\n",
       "\n",
       "    .dataframe thead th {\n",
       "        text-align: right;\n",
       "    }\n",
       "</style>\n",
       "<table border=\"1\" class=\"dataframe\">\n",
       "  <thead>\n",
       "    <tr style=\"text-align: right;\">\n",
       "      <th></th>\n",
       "      <th>date</th>\n",
       "      <th>number_of_daily_trips</th>\n",
       "      <th>ride_id</th>\n",
       "      <th>TAVG</th>\n",
       "    </tr>\n",
       "  </thead>\n",
       "  <tbody>\n",
       "    <tr>\n",
       "      <th>0</th>\n",
       "      <td>2022-01-01</td>\n",
       "      <td>20895</td>\n",
       "      <td>F2147CAB2E003A12</td>\n",
       "      <td>53</td>\n",
       "    </tr>\n",
       "    <tr>\n",
       "      <th>1</th>\n",
       "      <td>2022-01-01</td>\n",
       "      <td>20895</td>\n",
       "      <td>27FF7FCE0F8A02DF</td>\n",
       "      <td>53</td>\n",
       "    </tr>\n",
       "    <tr>\n",
       "      <th>2</th>\n",
       "      <td>2022-01-01</td>\n",
       "      <td>20895</td>\n",
       "      <td>E413BC1D0B4C6031</td>\n",
       "      <td>53</td>\n",
       "    </tr>\n",
       "    <tr>\n",
       "      <th>3</th>\n",
       "      <td>2022-01-01</td>\n",
       "      <td>20895</td>\n",
       "      <td>1967ADD90811CE78</td>\n",
       "      <td>53</td>\n",
       "    </tr>\n",
       "    <tr>\n",
       "      <th>4</th>\n",
       "      <td>2022-01-01</td>\n",
       "      <td>20895</td>\n",
       "      <td>D199C729356BA836</td>\n",
       "      <td>53</td>\n",
       "    </tr>\n",
       "  </tbody>\n",
       "</table>\n",
       "</div>"
      ],
      "text/plain": [
       "        date  number_of_daily_trips           ride_id  TAVG\n",
       "0 2022-01-01                  20895  F2147CAB2E003A12    53\n",
       "1 2022-01-01                  20895  27FF7FCE0F8A02DF    53\n",
       "2 2022-01-01                  20895  E413BC1D0B4C6031    53\n",
       "3 2022-01-01                  20895  1967ADD90811CE78    53\n",
       "4 2022-01-01                  20895  D199C729356BA836    53"
      ]
     },
     "execution_count": 264,
     "metadata": {},
     "output_type": "execute_result"
    }
   ],
   "source": [
    "df_1.head()"
   ]
  },
  {
   "cell_type": "markdown",
   "id": "f2382c02-1606-4dc6-9fd4-b097d34270e2",
   "metadata": {},
   "source": [
    "### Using twin axes"
   ]
  },
  {
   "cell_type": "code",
   "execution_count": 287,
   "id": "327c752c-f87f-4273-8b6c-5aa0007cb757",
   "metadata": {
    "scrolled": true
   },
   "outputs": [
    {
     "data": {
      "image/png": "[encoded data removed]",
      "text/plain": [
       "<Figure size 1000x500 with 2 Axes>"
      ]
     },
     "metadata": {},
     "output_type": "display_data"
    }
   ],
   "source": [
    "# Create figure and axis objects with subplots()\n",
    "\n",
    "fig,ax = plt.subplots(figsize=(10, 5))\n",
    "\n",
    "# Make a plot of the bike rides\n",
    "ax.plot(df_1['number_of_daily_trips'],color = \"red\")\n",
    "\n",
    "# Create the dual axis - initialize a twin object for two different y-axis on the sample plot\n",
    "ax2 = ax.twinx()\n",
    "\n",
    "# Make a plot with the temperatues on the y-axis using second axis object\n",
    "ax2.plot(df_1[\"TAVG\"], color = \"blue\")\n",
    "plt.show()"
   ]
  },
  {
   "cell_type": "markdown",
   "id": "2e261f30-be8f-4cf6-963e-4553da3cd319",
   "metadata": {},
   "source": [
    "### Dual-Axis Line Charts in Plotly/ traces"
   ]
  },
  {
   "cell_type": "code",
   "execution_count": 330,
   "id": "3fd31e14-a91e-4ee6-8e8c-1ed784066f5f",
   "metadata": {},
   "outputs": [],
   "source": [
    "df_sample = df_1.sample (n=10000, random_state=1)"
   ]
  },
  {
   "cell_type": "code",
   "execution_count": 331,
   "id": "960ce0b4-047e-44e8-881c-ae8747e44c85",
   "metadata": {
    "scrolled": true
   },
   "outputs": [
    {
     "data": {
      "text/html": [
       "<iframe\n",
       "    scrolling=\"no\"\n",
       "    width=\"1020px\"\n",
       "    height=\"620\"\n",
       "    src=\"iframe_figures/figure_331.html\"\n",
       "    frameborder=\"0\"\n",
       "    allowfullscreen\n",
       "></iframe>\n"
      ]
     },
     "metadata": {},
     "output_type": "display_data"
    }
   ],
   "source": [
    "# Line chart\n",
    "\n",
    "fig = make_subplots(specs = [[{\"secondary_y\": True}]])\n",
    "\n",
    "fig.add_trace(\n",
    "go.Scatter(x = df_sample['date'], y = df_sample['number_of_daily_trips'], name = 'Daily bike rides',line_color='blue'),\n",
    "secondary_y = False\n",
    ")\n",
    "\n",
    "fig.add_trace(\n",
    "go.Scatter(x= df_sample['date'], y = df_sample['TAVG'], name = 'Daily temperature',line_color='red'),\n",
    "secondary_y=True\n",
    ")\n",
    "\n",
    "fig.update_layout(\n",
    "    title = 'Daily bike rides and temperature, New York',\n",
    "    xaxis_title = 'Date',\n",
    "  \n",
    "    width = 1000, height = 600\n",
    ")\n",
    "\n",
    "fig.show()"
   ]
  },
  {
   "cell_type": "code",
   "execution_count": null,
   "id": "4d5a5b9d-5242-4fb9-aada-05226ecd6980",
   "metadata": {},
   "outputs": [],
   "source": []
  }
 ],
 "metadata": {
  "kernelspec": {
   "display_name": "Python [conda env:venv_citibike]",
   "language": "python",
   "name": "conda-env-venv_citibike-py"
  },
  "language_info": {
   "codemirror_mode": {
    "name": "ipython",
    "version": 3
   },
   "file_extension": ".py",
   "mimetype": "text/x-python",
   "name": "python",
   "nbconvert_exporter": "python",
   "pygments_lexer": "ipython3",
   "version": "3.12.4"
  }
 },
 "nbformat": 4,
 "nbformat_minor": 5
}
