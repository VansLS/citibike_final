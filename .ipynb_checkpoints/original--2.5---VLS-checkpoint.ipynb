{
 "cells": [
  {
   "cell_type": "code",
   "execution_count": 10,
   "id": "19992a3a-7f83-4cc5-bbf0-7b1c92039da3",
   "metadata": {},
   "outputs": [],
   "source": [
    "import pandas as pd\n",
    "import os\n",
    "from keplergl import KeplerGl\n",
    "from pyproj import CRS\n",
    "import numpy as np\n",
    "from matplotlib import pyplot as plt"
   ]
  },
  {
   "cell_type": "code",
   "execution_count": 14,
   "id": "cf549dfe-25e2-4f8d-86e1-7766e4024a7e",
   "metadata": {},
   "outputs": [],
   "source": [
    "df = pd.read_csv('largedata_weather_trips_2022.csv', usecols=['start_lat', 'start_lng','end_lat','end_lng','end_station_name', 'start_station_name'])"
   ]
  },
  {
   "cell_type": "code",
   "execution_count": 16,
   "id": "d4ce6756-3a89-498a-b7a8-c2e016f04d19",
   "metadata": {},
   "outputs": [
    {
     "data": {
      "text/html": [
       "<div>\n",
       "<style scoped>\n",
       "    .dataframe tbody tr th:only-of-type {\n",
       "        vertical-align: middle;\n",
       "    }\n",
       "\n",
       "    .dataframe tbody tr th {\n",
       "        vertical-align: top;\n",
       "    }\n",
       "\n",
       "    .dataframe thead th {\n",
       "        text-align: right;\n",
       "    }\n",
       "</style>\n",
       "<table border=\"1\" class=\"dataframe\">\n",
       "  <thead>\n",
       "    <tr style=\"text-align: right;\">\n",
       "      <th></th>\n",
       "      <th>start_station_name</th>\n",
       "      <th>end_station_name</th>\n",
       "      <th>start_lat</th>\n",
       "      <th>start_lng</th>\n",
       "      <th>end_lat</th>\n",
       "      <th>end_lng</th>\n",
       "    </tr>\n",
       "  </thead>\n",
       "  <tbody>\n",
       "    <tr>\n",
       "      <th>0</th>\n",
       "      <td>Berkeley Pl &amp; 6 Ave</td>\n",
       "      <td>Windsor Pl &amp; 8 Ave</td>\n",
       "      <td>40.676530</td>\n",
       "      <td>-73.978469</td>\n",
       "      <td>40.660906</td>\n",
       "      <td>-73.983074</td>\n",
       "    </tr>\n",
       "    <tr>\n",
       "      <th>1</th>\n",
       "      <td>21 St &amp; 4 Ave</td>\n",
       "      <td>Degraw St &amp; Smith St</td>\n",
       "      <td>40.662584</td>\n",
       "      <td>-73.995554</td>\n",
       "      <td>40.682915</td>\n",
       "      <td>-73.993182</td>\n",
       "    </tr>\n",
       "    <tr>\n",
       "      <th>2</th>\n",
       "      <td>48 St &amp; Barnett Ave</td>\n",
       "      <td>Queens Plaza North &amp; Crescent St</td>\n",
       "      <td>40.750016</td>\n",
       "      <td>-73.915409</td>\n",
       "      <td>40.751102</td>\n",
       "      <td>-73.940737</td>\n",
       "    </tr>\n",
       "    <tr>\n",
       "      <th>3</th>\n",
       "      <td>7 Ave &amp; Central Park South</td>\n",
       "      <td>8 Ave &amp; W 33 St</td>\n",
       "      <td>40.766741</td>\n",
       "      <td>-73.979069</td>\n",
       "      <td>40.751551</td>\n",
       "      <td>-73.993934</td>\n",
       "    </tr>\n",
       "    <tr>\n",
       "      <th>4</th>\n",
       "      <td>Jerome Ave &amp; W 195 St</td>\n",
       "      <td>Sherman Ave &amp; E 166 St</td>\n",
       "      <td>40.868858</td>\n",
       "      <td>-73.896500</td>\n",
       "      <td>40.831305</td>\n",
       "      <td>-73.917448</td>\n",
       "    </tr>\n",
       "  </tbody>\n",
       "</table>\n",
       "</div>"
      ],
      "text/plain": [
       "           start_station_name                  end_station_name  start_lat  \\\n",
       "0         Berkeley Pl & 6 Ave                Windsor Pl & 8 Ave  40.676530   \n",
       "1               21 St & 4 Ave              Degraw St & Smith St  40.662584   \n",
       "2         48 St & Barnett Ave  Queens Plaza North & Crescent St  40.750016   \n",
       "3  7 Ave & Central Park South                   8 Ave & W 33 St  40.766741   \n",
       "4       Jerome Ave & W 195 St            Sherman Ave & E 166 St  40.868858   \n",
       "\n",
       "   start_lng    end_lat    end_lng  \n",
       "0 -73.978469  40.660906 -73.983074  \n",
       "1 -73.995554  40.682915 -73.993182  \n",
       "2 -73.915409  40.751102 -73.940737  \n",
       "3 -73.979069  40.751551 -73.993934  \n",
       "4 -73.896500  40.831305 -73.917448  "
      ]
     },
     "execution_count": 16,
     "metadata": {},
     "output_type": "execute_result"
    }
   ],
   "source": [
    "df.head()"
   ]
  },
  {
   "cell_type": "code",
   "execution_count": 18,
   "id": "0e90ed28-06cd-48b8-9233-8376482cdd9d",
   "metadata": {},
   "outputs": [],
   "source": [
    "df['value']=1\n",
    "df_group=df.groupby(['start_station_name' , 'end_station_name'])['value'].count().reset_index()"
   ]
  },
  {
   "cell_type": "code",
   "execution_count": 20,
   "id": "0e78fe7b-e8fc-486b-9c71-2b1326739f29",
   "metadata": {},
   "outputs": [],
   "source": [
    "df_group.rename(columns={'value':'trips'}, inplace=True)"
   ]
  },
  {
   "cell_type": "code",
   "execution_count": 22,
   "id": "c6c8c82c-ac36-47a9-9abb-4d5e45b460e9",
   "metadata": {
    "scrolled": true
   },
   "outputs": [
    {
     "data": {
      "text/html": [
       "<div>\n",
       "<style scoped>\n",
       "    .dataframe tbody tr th:only-of-type {\n",
       "        vertical-align: middle;\n",
       "    }\n",
       "\n",
       "    .dataframe tbody tr th {\n",
       "        vertical-align: top;\n",
       "    }\n",
       "\n",
       "    .dataframe thead th {\n",
       "        text-align: right;\n",
       "    }\n",
       "</style>\n",
       "<table border=\"1\" class=\"dataframe\">\n",
       "  <thead>\n",
       "    <tr style=\"text-align: right;\">\n",
       "      <th></th>\n",
       "      <th>start_station_name</th>\n",
       "      <th>end_station_name</th>\n",
       "      <th>trips</th>\n",
       "    </tr>\n",
       "  </thead>\n",
       "  <tbody>\n",
       "    <tr>\n",
       "      <th>0</th>\n",
       "      <td>1 Ave &amp; E 110 St</td>\n",
       "      <td>1 Ave &amp; E 110 St</td>\n",
       "      <td>1473</td>\n",
       "    </tr>\n",
       "    <tr>\n",
       "      <th>1</th>\n",
       "      <td>1 Ave &amp; E 110 St</td>\n",
       "      <td>1 Ave &amp; E 18 St</td>\n",
       "      <td>2</td>\n",
       "    </tr>\n",
       "    <tr>\n",
       "      <th>2</th>\n",
       "      <td>1 Ave &amp; E 110 St</td>\n",
       "      <td>1 Ave &amp; E 30 St</td>\n",
       "      <td>4</td>\n",
       "    </tr>\n",
       "    <tr>\n",
       "      <th>3</th>\n",
       "      <td>1 Ave &amp; E 110 St</td>\n",
       "      <td>1 Ave &amp; E 39 St</td>\n",
       "      <td>1</td>\n",
       "    </tr>\n",
       "    <tr>\n",
       "      <th>4</th>\n",
       "      <td>1 Ave &amp; E 110 St</td>\n",
       "      <td>1 Ave &amp; E 44 St</td>\n",
       "      <td>12</td>\n",
       "    </tr>\n",
       "  </tbody>\n",
       "</table>\n",
       "</div>"
      ],
      "text/plain": [
       "  start_station_name  end_station_name  trips\n",
       "0   1 Ave & E 110 St  1 Ave & E 110 St   1473\n",
       "1   1 Ave & E 110 St   1 Ave & E 18 St      2\n",
       "2   1 Ave & E 110 St   1 Ave & E 30 St      4\n",
       "3   1 Ave & E 110 St   1 Ave & E 39 St      1\n",
       "4   1 Ave & E 110 St   1 Ave & E 44 St     12"
      ]
     },
     "execution_count": 22,
     "metadata": {},
     "output_type": "execute_result"
    }
   ],
   "source": [
    "df_group.head()"
   ]
  },
  {
   "cell_type": "code",
   "execution_count": 24,
   "id": "101c8bc1-fa15-4a20-9094-65d08c1080dc",
   "metadata": {},
   "outputs": [
    {
     "name": "stdout",
     "output_type": "stream",
     "text": [
      "30618148\n",
      "(30689921, 7)\n"
     ]
    }
   ],
   "source": [
    "print(df_group ['trips'].sum())\n",
    "print(df.shape)"
   ]
  },
  {
   "cell_type": "code",
   "execution_count": 26,
   "id": "9e66a3bb-5b71-472a-93b5-b6f398664789",
   "metadata": {},
   "outputs": [
    {
     "data": {
      "text/plain": [
       "(1013414, 3)"
      ]
     },
     "execution_count": 26,
     "metadata": {},
     "output_type": "execute_result"
    }
   ],
   "source": [
    "df_group.shape"
   ]
  },
  {
   "cell_type": "code",
   "execution_count": 28,
   "id": "16c3e1ae-4f7d-4791-bfe7-805cbb874039",
   "metadata": {},
   "outputs": [],
   "source": [
    "df_m = pd.merge(df, df_group, on = ['start_station_name', 'end_station_name'], how = 'inner')"
   ]
  },
  {
   "cell_type": "code",
   "execution_count": 32,
   "id": "0f18f3d8-1f21-43a8-b6f3-981a2bc304d8",
   "metadata": {},
   "outputs": [],
   "source": [
    "df_m=df_m.drop(columns= ['value'])"
   ]
  },
  {
   "cell_type": "code",
   "execution_count": 34,
   "id": "b4efd3ad-3452-460b-8a7e-bf4e87351a32",
   "metadata": {},
   "outputs": [
    {
     "data": {
      "text/html": [
       "<div>\n",
       "<style scoped>\n",
       "    .dataframe tbody tr th:only-of-type {\n",
       "        vertical-align: middle;\n",
       "    }\n",
       "\n",
       "    .dataframe tbody tr th {\n",
       "        vertical-align: top;\n",
       "    }\n",
       "\n",
       "    .dataframe thead th {\n",
       "        text-align: right;\n",
       "    }\n",
       "</style>\n",
       "<table border=\"1\" class=\"dataframe\">\n",
       "  <thead>\n",
       "    <tr style=\"text-align: right;\">\n",
       "      <th></th>\n",
       "      <th>start_station_name</th>\n",
       "      <th>end_station_name</th>\n",
       "      <th>start_lat</th>\n",
       "      <th>start_lng</th>\n",
       "      <th>end_lat</th>\n",
       "      <th>end_lng</th>\n",
       "      <th>trips</th>\n",
       "    </tr>\n",
       "  </thead>\n",
       "  <tbody>\n",
       "    <tr>\n",
       "      <th>0</th>\n",
       "      <td>Berkeley Pl &amp; 6 Ave</td>\n",
       "      <td>Windsor Pl &amp; 8 Ave</td>\n",
       "      <td>40.67653</td>\n",
       "      <td>-73.978469</td>\n",
       "      <td>40.660906</td>\n",
       "      <td>-73.983074</td>\n",
       "      <td>23</td>\n",
       "    </tr>\n",
       "    <tr>\n",
       "      <th>1</th>\n",
       "      <td>Berkeley Pl &amp; 6 Ave</td>\n",
       "      <td>Windsor Pl &amp; 8 Ave</td>\n",
       "      <td>40.67653</td>\n",
       "      <td>-73.978469</td>\n",
       "      <td>40.660906</td>\n",
       "      <td>-73.983074</td>\n",
       "      <td>23</td>\n",
       "    </tr>\n",
       "  </tbody>\n",
       "</table>\n",
       "</div>"
      ],
      "text/plain": [
       "    start_station_name    end_station_name  start_lat  start_lng    end_lat  \\\n",
       "0  Berkeley Pl & 6 Ave  Windsor Pl & 8 Ave   40.67653 -73.978469  40.660906   \n",
       "1  Berkeley Pl & 6 Ave  Windsor Pl & 8 Ave   40.67653 -73.978469  40.660906   \n",
       "\n",
       "     end_lng  trips  \n",
       "0 -73.983074     23  \n",
       "1 -73.983074     23  "
      ]
     },
     "execution_count": 34,
     "metadata": {},
     "output_type": "execute_result"
    }
   ],
   "source": [
    "df_m.head(2)"
   ]
  },
  {
   "cell_type": "code",
   "execution_count": 38,
   "id": "928e77fe-209a-42a1-a324-208072383be9",
   "metadata": {},
   "outputs": [],
   "source": [
    "df_m.to_csv('finallocationsformap1.csv')"
   ]
  },
  {
   "cell_type": "code",
   "execution_count": 15,
   "id": "a418cf9d-fda6-44fb-b3f9-70261407dbb5",
   "metadata": {
    "scrolled": true
   },
   "outputs": [
    {
     "data": {
      "text/html": [
       "<div>\n",
       "<style scoped>\n",
       "    .dataframe tbody tr th:only-of-type {\n",
       "        vertical-align: middle;\n",
       "    }\n",
       "\n",
       "    .dataframe tbody tr th {\n",
       "        vertical-align: top;\n",
       "    }\n",
       "\n",
       "    .dataframe thead th {\n",
       "        text-align: right;\n",
       "    }\n",
       "</style>\n",
       "<table border=\"1\" class=\"dataframe\">\n",
       "  <thead>\n",
       "    <tr style=\"text-align: right;\">\n",
       "      <th></th>\n",
       "      <th>start_station_name</th>\n",
       "      <th>end_station_name</th>\n",
       "      <th>Latitude_x</th>\n",
       "      <th>Longitude_x</th>\n",
       "      <th>Latitude_y</th>\n",
       "      <th>Longitude_y</th>\n",
       "      <th>trips</th>\n",
       "    </tr>\n",
       "  </thead>\n",
       "  <tbody>\n",
       "    <tr>\n",
       "      <th>0</th>\n",
       "      <td>Berkeley Pl &amp; 6 Ave</td>\n",
       "      <td>Windsor Pl &amp; 8 Ave</td>\n",
       "      <td>40.676530</td>\n",
       "      <td>-73.978469</td>\n",
       "      <td>40.660906</td>\n",
       "      <td>-73.983074</td>\n",
       "      <td>2</td>\n",
       "    </tr>\n",
       "    <tr>\n",
       "      <th>1</th>\n",
       "      <td>21 St &amp; 4 Ave</td>\n",
       "      <td>Degraw St &amp; Smith St</td>\n",
       "      <td>40.662584</td>\n",
       "      <td>-73.995554</td>\n",
       "      <td>40.682915</td>\n",
       "      <td>-73.993182</td>\n",
       "      <td>1</td>\n",
       "    </tr>\n",
       "    <tr>\n",
       "      <th>2</th>\n",
       "      <td>48 St &amp; Barnett Ave</td>\n",
       "      <td>Queens Plaza North &amp; Crescent St</td>\n",
       "      <td>40.750016</td>\n",
       "      <td>-73.915409</td>\n",
       "      <td>40.751102</td>\n",
       "      <td>-73.940737</td>\n",
       "      <td>1</td>\n",
       "    </tr>\n",
       "    <tr>\n",
       "      <th>3</th>\n",
       "      <td>7 Ave &amp; Central Park South</td>\n",
       "      <td>8 Ave &amp; W 33 St</td>\n",
       "      <td>40.766741</td>\n",
       "      <td>-73.979069</td>\n",
       "      <td>40.751551</td>\n",
       "      <td>-73.993934</td>\n",
       "      <td>2</td>\n",
       "    </tr>\n",
       "    <tr>\n",
       "      <th>4</th>\n",
       "      <td>Jerome Ave &amp; W 195 St</td>\n",
       "      <td>Sherman Ave &amp; E 166 St</td>\n",
       "      <td>40.868858</td>\n",
       "      <td>-73.896500</td>\n",
       "      <td>40.831305</td>\n",
       "      <td>-73.917448</td>\n",
       "      <td>1</td>\n",
       "    </tr>\n",
       "    <tr>\n",
       "      <th>...</th>\n",
       "      <td>...</td>\n",
       "      <td>...</td>\n",
       "      <td>...</td>\n",
       "      <td>...</td>\n",
       "      <td>...</td>\n",
       "      <td>...</td>\n",
       "      <td>...</td>\n",
       "    </tr>\n",
       "    <tr>\n",
       "      <th>199995</th>\n",
       "      <td>W 15 St &amp; 7 Ave</td>\n",
       "      <td>Spring St &amp; Hudson St</td>\n",
       "      <td>40.739355</td>\n",
       "      <td>-73.999318</td>\n",
       "      <td>40.725840</td>\n",
       "      <td>-74.007653</td>\n",
       "      <td>7</td>\n",
       "    </tr>\n",
       "    <tr>\n",
       "      <th>199996</th>\n",
       "      <td>Norman St &amp; Wyckoff Ave</td>\n",
       "      <td>Forest Ave &amp; Summerfield St</td>\n",
       "      <td>40.695349</td>\n",
       "      <td>-73.903031</td>\n",
       "      <td>40.699220</td>\n",
       "      <td>-73.897950</td>\n",
       "      <td>21</td>\n",
       "    </tr>\n",
       "    <tr>\n",
       "      <th>199997</th>\n",
       "      <td>E 33 St &amp; 5 Ave</td>\n",
       "      <td>W 41 St &amp; 8 Ave</td>\n",
       "      <td>40.747659</td>\n",
       "      <td>-73.984907</td>\n",
       "      <td>40.756405</td>\n",
       "      <td>-73.990026</td>\n",
       "      <td>16</td>\n",
       "    </tr>\n",
       "    <tr>\n",
       "      <th>199998</th>\n",
       "      <td>E 33 St &amp; 5 Ave</td>\n",
       "      <td>Spring St &amp; Hudson St</td>\n",
       "      <td>40.747781</td>\n",
       "      <td>-73.984663</td>\n",
       "      <td>40.725840</td>\n",
       "      <td>-74.007653</td>\n",
       "      <td>3</td>\n",
       "    </tr>\n",
       "    <tr>\n",
       "      <th>199999</th>\n",
       "      <td>Centre St &amp; Seneca Ave</td>\n",
       "      <td>George St &amp; Wilson Ave</td>\n",
       "      <td>40.699690</td>\n",
       "      <td>-73.902200</td>\n",
       "      <td>40.702997</td>\n",
       "      <td>-73.929970</td>\n",
       "      <td>1</td>\n",
       "    </tr>\n",
       "  </tbody>\n",
       "</table>\n",
       "<p>200000 rows × 7 columns</p>\n",
       "</div>"
      ],
      "text/plain": [
       "                start_station_name                  end_station_name  \\\n",
       "0              Berkeley Pl & 6 Ave                Windsor Pl & 8 Ave   \n",
       "1                    21 St & 4 Ave              Degraw St & Smith St   \n",
       "2              48 St & Barnett Ave  Queens Plaza North & Crescent St   \n",
       "3       7 Ave & Central Park South                   8 Ave & W 33 St   \n",
       "4            Jerome Ave & W 195 St            Sherman Ave & E 166 St   \n",
       "...                            ...                               ...   \n",
       "199995             W 15 St & 7 Ave             Spring St & Hudson St   \n",
       "199996     Norman St & Wyckoff Ave       Forest Ave & Summerfield St   \n",
       "199997             E 33 St & 5 Ave                   W 41 St & 8 Ave   \n",
       "199998             E 33 St & 5 Ave             Spring St & Hudson St   \n",
       "199999      Centre St & Seneca Ave            George St & Wilson Ave   \n",
       "\n",
       "        Latitude_x  Longitude_x  Latitude_y  Longitude_y  trips  \n",
       "0        40.676530   -73.978469   40.660906   -73.983074      2  \n",
       "1        40.662584   -73.995554   40.682915   -73.993182      1  \n",
       "2        40.750016   -73.915409   40.751102   -73.940737      1  \n",
       "3        40.766741   -73.979069   40.751551   -73.993934      2  \n",
       "4        40.868858   -73.896500   40.831305   -73.917448      1  \n",
       "...            ...          ...         ...          ...    ...  \n",
       "199995   40.739355   -73.999318   40.725840   -74.007653      7  \n",
       "199996   40.695349   -73.903031   40.699220   -73.897950     21  \n",
       "199997   40.747659   -73.984907   40.756405   -73.990026     16  \n",
       "199998   40.747781   -73.984663   40.725840   -74.007653      3  \n",
       "199999   40.699690   -73.902200   40.702997   -73.929970      1  \n",
       "\n",
       "[200000 rows x 7 columns]"
      ]
     },
     "execution_count": 15,
     "metadata": {},
     "output_type": "execute_result"
    }
   ],
   "source": [
    "df_m.rename(columns = {'start_lat':'Latitude_x', 'start_lng':'Longitude_x', 'end_lat':'Latitude_y', \n",
    "                       'end_lng': 'Longitude_y'})"
   ]
  },
  {
   "cell_type": "code",
   "execution_count": 16,
   "id": "b76fd947-8b70-45db-a88c-37d28d776a6d",
   "metadata": {},
   "outputs": [
    {
     "data": {
      "text/plain": [
       "(200000, 7)"
      ]
     },
     "execution_count": 16,
     "metadata": {},
     "output_type": "execute_result"
    }
   ],
   "source": [
    "df_m.shape "
   ]
  },
  {
   "cell_type": "code",
   "execution_count": 17,
   "id": "a7319e38-e047-41dc-9d98-511845179d8f",
   "metadata": {},
   "outputs": [
    {
     "data": {
      "text/html": [
       "<div>\n",
       "<style scoped>\n",
       "    .dataframe tbody tr th:only-of-type {\n",
       "        vertical-align: middle;\n",
       "    }\n",
       "\n",
       "    .dataframe tbody tr th {\n",
       "        vertical-align: top;\n",
       "    }\n",
       "\n",
       "    .dataframe thead th {\n",
       "        text-align: right;\n",
       "    }\n",
       "</style>\n",
       "<table border=\"1\" class=\"dataframe\">\n",
       "  <thead>\n",
       "    <tr style=\"text-align: right;\">\n",
       "      <th></th>\n",
       "      <th>start_station_name</th>\n",
       "      <th>end_station_name</th>\n",
       "      <th>start_lat</th>\n",
       "      <th>start_lng</th>\n",
       "      <th>end_lat</th>\n",
       "      <th>end_lng</th>\n",
       "      <th>trips</th>\n",
       "    </tr>\n",
       "  </thead>\n",
       "  <tbody>\n",
       "    <tr>\n",
       "      <th>0</th>\n",
       "      <td>Berkeley Pl &amp; 6 Ave</td>\n",
       "      <td>Windsor Pl &amp; 8 Ave</td>\n",
       "      <td>40.676530</td>\n",
       "      <td>-73.978469</td>\n",
       "      <td>40.660906</td>\n",
       "      <td>-73.983074</td>\n",
       "      <td>2</td>\n",
       "    </tr>\n",
       "    <tr>\n",
       "      <th>1</th>\n",
       "      <td>21 St &amp; 4 Ave</td>\n",
       "      <td>Degraw St &amp; Smith St</td>\n",
       "      <td>40.662584</td>\n",
       "      <td>-73.995554</td>\n",
       "      <td>40.682915</td>\n",
       "      <td>-73.993182</td>\n",
       "      <td>1</td>\n",
       "    </tr>\n",
       "    <tr>\n",
       "      <th>2</th>\n",
       "      <td>48 St &amp; Barnett Ave</td>\n",
       "      <td>Queens Plaza North &amp; Crescent St</td>\n",
       "      <td>40.750016</td>\n",
       "      <td>-73.915409</td>\n",
       "      <td>40.751102</td>\n",
       "      <td>-73.940737</td>\n",
       "      <td>1</td>\n",
       "    </tr>\n",
       "    <tr>\n",
       "      <th>3</th>\n",
       "      <td>7 Ave &amp; Central Park South</td>\n",
       "      <td>8 Ave &amp; W 33 St</td>\n",
       "      <td>40.766741</td>\n",
       "      <td>-73.979069</td>\n",
       "      <td>40.751551</td>\n",
       "      <td>-73.993934</td>\n",
       "      <td>2</td>\n",
       "    </tr>\n",
       "    <tr>\n",
       "      <th>4</th>\n",
       "      <td>Jerome Ave &amp; W 195 St</td>\n",
       "      <td>Sherman Ave &amp; E 166 St</td>\n",
       "      <td>40.868858</td>\n",
       "      <td>-73.896500</td>\n",
       "      <td>40.831305</td>\n",
       "      <td>-73.917448</td>\n",
       "      <td>1</td>\n",
       "    </tr>\n",
       "  </tbody>\n",
       "</table>\n",
       "</div>"
      ],
      "text/plain": [
       "           start_station_name                  end_station_name  start_lat  \\\n",
       "0         Berkeley Pl & 6 Ave                Windsor Pl & 8 Ave  40.676530   \n",
       "1               21 St & 4 Ave              Degraw St & Smith St  40.662584   \n",
       "2         48 St & Barnett Ave  Queens Plaza North & Crescent St  40.750016   \n",
       "3  7 Ave & Central Park South                   8 Ave & W 33 St  40.766741   \n",
       "4       Jerome Ave & W 195 St            Sherman Ave & E 166 St  40.868858   \n",
       "\n",
       "   start_lng    end_lat    end_lng  trips  \n",
       "0 -73.978469  40.660906 -73.983074      2  \n",
       "1 -73.995554  40.682915 -73.993182      1  \n",
       "2 -73.915409  40.751102 -73.940737      1  \n",
       "3 -73.979069  40.751551 -73.993934      2  \n",
       "4 -73.896500  40.831305 -73.917448      1  "
      ]
     },
     "execution_count": 17,
     "metadata": {},
     "output_type": "execute_result"
    }
   ],
   "source": [
    "df_m.head()"
   ]
  },
  {
   "cell_type": "code",
   "execution_count": 18,
   "id": "24029f3e-5e12-406e-9f85-a797bed61167",
   "metadata": {},
   "outputs": [],
   "source": [
    "sample_df = df_m.sample(n=200000, random_state=1)"
   ]
  },
  {
   "cell_type": "code",
   "execution_count": 19,
   "id": "6bd6c060-fb7b-4b98-9b5a-c14b15452a42",
   "metadata": {},
   "outputs": [
    {
     "data": {
      "text/plain": [
       "start_station_name    0\n",
       "end_station_name      0\n",
       "start_lat             0\n",
       "start_lng             0\n",
       "end_lat               0\n",
       "end_lng               0\n",
       "trips                 0\n",
       "dtype: int64"
      ]
     },
     "execution_count": 19,
     "metadata": {},
     "output_type": "execute_result"
    }
   ],
   "source": [
    "sample_df.isna().sum()"
   ]
  },
  {
   "cell_type": "code",
   "execution_count": 22,
   "id": "e2bc3e07-518f-456f-968b-ac18ac63ce85",
   "metadata": {},
   "outputs": [
    {
     "data": {
      "text/plain": [
       "0"
      ]
     },
     "execution_count": 22,
     "metadata": {},
     "output_type": "execute_result"
    }
   ],
   "source": [
    "import gc  # This imports the garbage collector module.\n",
    "gc.collect()  # This triggers the garbage collector to free up memory.\n"
   ]
  },
  {
   "cell_type": "code",
   "execution_count": 23,
   "id": "f87da014-2158-4a34-9962-f5451fe81254",
   "metadata": {
    "scrolled": true
   },
   "outputs": [
    {
     "name": "stdout",
     "output_type": "stream",
     "text": [
      "User Guide: https://docs.kepler.gl/docs/keplergl-jupyter\n"
     ]
    },
    {
     "data": {
      "application/vnd.jupyter.widget-view+json": {
       "model_id": "aae96efc73374d7fbea41df2e2d3de30",
       "version_major": 2,
       "version_minor": 0
      },
      "text/plain": [
       "KeplerGl(data={'data_1':              start_station_name               end_station_name  start_lat  \\\n",
       "49673   …"
      ]
     },
     "metadata": {},
     "output_type": "display_data"
    }
   ],
   "source": [
    "m = KeplerGl(height = 400, data={\"New York Bike Rides\": sample_df})\n",
    "m"
   ]
  },
  {
   "cell_type": "code",
   "execution_count": 24,
   "id": "201b51c5-9482-4556-a91f-f88769982a9c",
   "metadata": {},
   "outputs": [],
   "source": [
    "config = m.config"
   ]
  },
  {
   "cell_type": "code",
   "execution_count": 25,
   "id": "1d319260-1e57-4f84-9b6e-c36584ef37b4",
   "metadata": {},
   "outputs": [],
   "source": [
    "# widget can't load within jupyter lab. \n",
    "# using a small sample first. "
   ]
  },
  {
   "cell_type": "code",
   "execution_count": 26,
   "id": "bb296d71-f681-49c8-b3ea-53b8352c899b",
   "metadata": {},
   "outputs": [],
   "source": [
    "import json\n",
    "with open(\"config.json\", \"w\") as outfile:\n",
    "    json.dump(config, outfile)"
   ]
  },
  {
   "cell_type": "code",
   "execution_count": 27,
   "id": "a066b654-961d-4d79-9287-9b5e781409aa",
   "metadata": {},
   "outputs": [
    {
     "name": "stdout",
     "output_type": "stream",
     "text": [
      "Map saved to CBTEST.html!\n"
     ]
    }
   ],
   "source": [
    "m.save_to_html(file_name = 'CBTEST.html', read_only = False, config = config)"
   ]
  },
  {
   "cell_type": "code",
   "execution_count": null,
   "id": "74a7d9f3-4051-4b21-9bda-4e0002d50484",
   "metadata": {},
   "outputs": [],
   "source": []
  },
  {
   "cell_type": "code",
   "execution_count": null,
   "id": "017b76c1-844e-4d57-85d9-bb87c6a15163",
   "metadata": {},
   "outputs": [],
   "source": []
  }
 ],
 "metadata": {
  "kernelspec": {
   "display_name": "Python [conda env:base] *",
   "language": "python",
   "name": "conda-base-py"
  },
  "language_info": {
   "codemirror_mode": {
    "name": "ipython",
    "version": 3
   },
   "file_extension": ".py",
   "mimetype": "text/x-python",
   "name": "python",
   "nbconvert_exporter": "python",
   "pygments_lexer": "ipython3",
   "version": "3.11.7"
  }
 },
 "nbformat": 4,
 "nbformat_minor": 5
}
