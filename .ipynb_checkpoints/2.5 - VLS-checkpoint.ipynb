{
 "cells": [
  {
   "cell_type": "code",
   "execution_count": 4,
   "id": "e1915a6c-b540-4d72-b481-95da805df592",
   "metadata": {},
   "outputs": [],
   "source": [
    "import pandas as pd\n",
    "import os\n",
    "from keplergl import KeplerGl\n",
    "from pyproj import CRS\n",
    "import numpy as np\n",
    "from matplotlib import pyplot as plt"
   ]
  },
  {
   "cell_type": "code",
   "execution_count": 7,
   "id": "cf549dfe-25e2-4f8d-86e1-7766e4024a7e",
   "metadata": {},
   "outputs": [],
   "source": [
    "df = pd.read_csv('largedata_weather_trips_2022.csv', usecols=['start_lat','start_lng','end_lat','end_lng','end_station_name', 'member_casual', 'start_station_name'])"
   ]
  },
  {
   "cell_type": "code",
   "execution_count": 10,
   "id": "d4ce6756-3a89-498a-b7a8-c2e016f04d19",
   "metadata": {},
   "outputs": [
    {
     "data": {
      "text/html": [
       "<div>\n",
       "<style scoped>\n",
       "    .dataframe tbody tr th:only-of-type {\n",
       "        vertical-align: middle;\n",
       "    }\n",
       "\n",
       "    .dataframe tbody tr th {\n",
       "        vertical-align: top;\n",
       "    }\n",
       "\n",
       "    .dataframe thead th {\n",
       "        text-align: right;\n",
       "    }\n",
       "</style>\n",
       "<table border=\"1\" class=\"dataframe\">\n",
       "  <thead>\n",
       "    <tr style=\"text-align: right;\">\n",
       "      <th></th>\n",
       "      <th>start_station_name</th>\n",
       "      <th>end_station_name</th>\n",
       "      <th>start_lat</th>\n",
       "      <th>start_lng</th>\n",
       "      <th>end_lat</th>\n",
       "      <th>end_lng</th>\n",
       "      <th>member_casual</th>\n",
       "    </tr>\n",
       "  </thead>\n",
       "  <tbody>\n",
       "    <tr>\n",
       "      <th>0</th>\n",
       "      <td>Berkeley Pl &amp; 6 Ave</td>\n",
       "      <td>Windsor Pl &amp; 8 Ave</td>\n",
       "      <td>40.676530</td>\n",
       "      <td>-73.978469</td>\n",
       "      <td>40.660906</td>\n",
       "      <td>-73.983074</td>\n",
       "      <td>member</td>\n",
       "    </tr>\n",
       "    <tr>\n",
       "      <th>1</th>\n",
       "      <td>21 St &amp; 4 Ave</td>\n",
       "      <td>Degraw St &amp; Smith St</td>\n",
       "      <td>40.662584</td>\n",
       "      <td>-73.995554</td>\n",
       "      <td>40.682915</td>\n",
       "      <td>-73.993182</td>\n",
       "      <td>member</td>\n",
       "    </tr>\n",
       "    <tr>\n",
       "      <th>2</th>\n",
       "      <td>48 St &amp; Barnett Ave</td>\n",
       "      <td>Queens Plaza North &amp; Crescent St</td>\n",
       "      <td>40.750016</td>\n",
       "      <td>-73.915409</td>\n",
       "      <td>40.751102</td>\n",
       "      <td>-73.940737</td>\n",
       "      <td>member</td>\n",
       "    </tr>\n",
       "    <tr>\n",
       "      <th>3</th>\n",
       "      <td>7 Ave &amp; Central Park South</td>\n",
       "      <td>8 Ave &amp; W 33 St</td>\n",
       "      <td>40.766741</td>\n",
       "      <td>-73.979069</td>\n",
       "      <td>40.751551</td>\n",
       "      <td>-73.993934</td>\n",
       "      <td>member</td>\n",
       "    </tr>\n",
       "    <tr>\n",
       "      <th>4</th>\n",
       "      <td>Jerome Ave &amp; W 195 St</td>\n",
       "      <td>Sherman Ave &amp; E 166 St</td>\n",
       "      <td>40.868858</td>\n",
       "      <td>-73.896500</td>\n",
       "      <td>40.831305</td>\n",
       "      <td>-73.917448</td>\n",
       "      <td>member</td>\n",
       "    </tr>\n",
       "  </tbody>\n",
       "</table>\n",
       "</div>"
      ],
      "text/plain": [
       "           start_station_name                  end_station_name  start_lat  \\\n",
       "0         Berkeley Pl & 6 Ave                Windsor Pl & 8 Ave  40.676530   \n",
       "1               21 St & 4 Ave              Degraw St & Smith St  40.662584   \n",
       "2         48 St & Barnett Ave  Queens Plaza North & Crescent St  40.750016   \n",
       "3  7 Ave & Central Park South                   8 Ave & W 33 St  40.766741   \n",
       "4       Jerome Ave & W 195 St            Sherman Ave & E 166 St  40.868858   \n",
       "\n",
       "   start_lng    end_lat    end_lng member_casual  \n",
       "0 -73.978469  40.660906 -73.983074        member  \n",
       "1 -73.995554  40.682915 -73.993182        member  \n",
       "2 -73.915409  40.751102 -73.940737        member  \n",
       "3 -73.979069  40.751551 -73.993934        member  \n",
       "4 -73.896500  40.831305 -73.917448        member  "
      ]
     },
     "execution_count": 10,
     "metadata": {},
     "output_type": "execute_result"
    }
   ],
   "source": [
    "df.head()"
   ]
  },
  {
   "cell_type": "code",
   "execution_count": 12,
   "id": "573a0b20-8bd3-4810-a70f-93471e4a9ed4",
   "metadata": {},
   "outputs": [
    {
     "data": {
      "text/plain": [
       "(30689921, 7)"
      ]
     },
     "execution_count": 12,
     "metadata": {},
     "output_type": "execute_result"
    }
   ],
   "source": [
    "df.shape"
   ]
  },
  {
   "cell_type": "code",
   "execution_count": 16,
   "id": "f97b9a62-0f9f-4fef-8d2c-adc86cba0a23",
   "metadata": {},
   "outputs": [
    {
     "data": {
      "text/plain": [
       "member_casual\n",
       "member    23995071\n",
       "casual     6694850\n",
       "Name: count, dtype: int64"
      ]
     },
     "execution_count": 16,
     "metadata": {},
     "output_type": "execute_result"
    }
   ],
   "source": [
    "counts = df['member_casual'].value_counts()\n",
    "counts"
   ]
  },
  {
   "cell_type": "code",
   "execution_count": 22,
   "id": "b58009a5-2af8-4ca0-859a-2fece984b4f0",
   "metadata": {},
   "outputs": [],
   "source": [
    "# we are removing casual members as their riding trend across temperatures\n",
    "# is the same as members (as we found out in the previous task) \n",
    "#but a lower total number. \n",
    "\n",
    "df = df [df['member_casual'] != 'casual']"
   ]
  },
  {
   "cell_type": "code",
   "execution_count": 29,
   "id": "67db5a71-8ce9-4808-ab2a-b7e6577c827e",
   "metadata": {},
   "outputs": [
    {
     "data": {
      "text/plain": [
       "(23995071, 7)"
      ]
     },
     "execution_count": 29,
     "metadata": {},
     "output_type": "execute_result"
    }
   ],
   "source": [
    "df.shape"
   ]
  },
  {
   "cell_type": "code",
   "execution_count": 31,
   "id": "0e90ed28-06cd-48b8-9233-8376482cdd9d",
   "metadata": {},
   "outputs": [],
   "source": [
    "df['value']=1\n",
    "df_group=df.groupby(['start_station_name' , 'end_station_name'])['value'].count().reset_index()"
   ]
  },
  {
   "cell_type": "code",
   "execution_count": 39,
   "id": "0e78fe7b-e8fc-486b-9c71-2b1326739f29",
   "metadata": {},
   "outputs": [],
   "source": [
    "df_group.rename(columns={'value':'trips'}, inplace=True)"
   ]
  },
  {
   "cell_type": "code",
   "execution_count": 41,
   "id": "c6c8c82c-ac36-47a9-9abb-4d5e45b460e9",
   "metadata": {
    "scrolled": true
   },
   "outputs": [
    {
     "data": {
      "text/html": [
       "<div>\n",
       "<style scoped>\n",
       "    .dataframe tbody tr th:only-of-type {\n",
       "        vertical-align: middle;\n",
       "    }\n",
       "\n",
       "    .dataframe tbody tr th {\n",
       "        vertical-align: top;\n",
       "    }\n",
       "\n",
       "    .dataframe thead th {\n",
       "        text-align: right;\n",
       "    }\n",
       "</style>\n",
       "<table border=\"1\" class=\"dataframe\">\n",
       "  <thead>\n",
       "    <tr style=\"text-align: right;\">\n",
       "      <th></th>\n",
       "      <th>start_station_name</th>\n",
       "      <th>end_station_name</th>\n",
       "      <th>trips</th>\n",
       "    </tr>\n",
       "  </thead>\n",
       "  <tbody>\n",
       "    <tr>\n",
       "      <th>0</th>\n",
       "      <td>1 Ave &amp; E 110 St</td>\n",
       "      <td>1 Ave &amp; E 110 St</td>\n",
       "      <td>1183</td>\n",
       "    </tr>\n",
       "    <tr>\n",
       "      <th>1</th>\n",
       "      <td>1 Ave &amp; E 110 St</td>\n",
       "      <td>1 Ave &amp; E 18 St</td>\n",
       "      <td>2</td>\n",
       "    </tr>\n",
       "    <tr>\n",
       "      <th>2</th>\n",
       "      <td>1 Ave &amp; E 110 St</td>\n",
       "      <td>1 Ave &amp; E 30 St</td>\n",
       "      <td>2</td>\n",
       "    </tr>\n",
       "    <tr>\n",
       "      <th>3</th>\n",
       "      <td>1 Ave &amp; E 110 St</td>\n",
       "      <td>1 Ave &amp; E 39 St</td>\n",
       "      <td>1</td>\n",
       "    </tr>\n",
       "    <tr>\n",
       "      <th>4</th>\n",
       "      <td>1 Ave &amp; E 110 St</td>\n",
       "      <td>1 Ave &amp; E 44 St</td>\n",
       "      <td>12</td>\n",
       "    </tr>\n",
       "    <tr>\n",
       "      <th>...</th>\n",
       "      <td>...</td>\n",
       "      <td>...</td>\n",
       "      <td>...</td>\n",
       "    </tr>\n",
       "    <tr>\n",
       "      <th>927705</th>\n",
       "      <td>Yankee Ferry Terminal</td>\n",
       "      <td>Water St &amp;  Fletcher St</td>\n",
       "      <td>1</td>\n",
       "    </tr>\n",
       "    <tr>\n",
       "      <th>927706</th>\n",
       "      <td>Yankee Ferry Terminal</td>\n",
       "      <td>West St &amp; Chambers St</td>\n",
       "      <td>2</td>\n",
       "    </tr>\n",
       "    <tr>\n",
       "      <th>927707</th>\n",
       "      <td>Yankee Ferry Terminal</td>\n",
       "      <td>West St &amp; Liberty St</td>\n",
       "      <td>2</td>\n",
       "    </tr>\n",
       "    <tr>\n",
       "      <th>927708</th>\n",
       "      <td>Yankee Ferry Terminal</td>\n",
       "      <td>West Thames St</td>\n",
       "      <td>1</td>\n",
       "    </tr>\n",
       "    <tr>\n",
       "      <th>927709</th>\n",
       "      <td>Yankee Ferry Terminal</td>\n",
       "      <td>Yankee Ferry Terminal</td>\n",
       "      <td>1721</td>\n",
       "    </tr>\n",
       "  </tbody>\n",
       "</table>\n",
       "<p>927710 rows × 3 columns</p>\n",
       "</div>"
      ],
      "text/plain": [
       "           start_station_name         end_station_name  trips\n",
       "0            1 Ave & E 110 St         1 Ave & E 110 St   1183\n",
       "1            1 Ave & E 110 St          1 Ave & E 18 St      2\n",
       "2            1 Ave & E 110 St          1 Ave & E 30 St      2\n",
       "3            1 Ave & E 110 St          1 Ave & E 39 St      1\n",
       "4            1 Ave & E 110 St          1 Ave & E 44 St     12\n",
       "...                       ...                      ...    ...\n",
       "927705  Yankee Ferry Terminal  Water St &  Fletcher St      1\n",
       "927706  Yankee Ferry Terminal    West St & Chambers St      2\n",
       "927707  Yankee Ferry Terminal     West St & Liberty St      2\n",
       "927708  Yankee Ferry Terminal           West Thames St      1\n",
       "927709  Yankee Ferry Terminal    Yankee Ferry Terminal   1721\n",
       "\n",
       "[927710 rows x 3 columns]"
      ]
     },
     "execution_count": 41,
     "metadata": {},
     "output_type": "execute_result"
    }
   ],
   "source": [
    "df_group"
   ]
  },
  {
   "cell_type": "code",
   "execution_count": 43,
   "id": "dcf6a5d1-c539-4fae-8e90-3a09194edca8",
   "metadata": {},
   "outputs": [
    {
     "data": {
      "text/html": [
       "<div>\n",
       "<style scoped>\n",
       "    .dataframe tbody tr th:only-of-type {\n",
       "        vertical-align: middle;\n",
       "    }\n",
       "\n",
       "    .dataframe tbody tr th {\n",
       "        vertical-align: top;\n",
       "    }\n",
       "\n",
       "    .dataframe thead th {\n",
       "        text-align: right;\n",
       "    }\n",
       "</style>\n",
       "<table border=\"1\" class=\"dataframe\">\n",
       "  <thead>\n",
       "    <tr style=\"text-align: right;\">\n",
       "      <th></th>\n",
       "      <th>trips</th>\n",
       "    </tr>\n",
       "  </thead>\n",
       "  <tbody>\n",
       "    <tr>\n",
       "      <th>count</th>\n",
       "      <td>927710.000000</td>\n",
       "    </tr>\n",
       "    <tr>\n",
       "      <th>mean</th>\n",
       "      <td>25.817150</td>\n",
       "    </tr>\n",
       "    <tr>\n",
       "      <th>std</th>\n",
       "      <td>90.150977</td>\n",
       "    </tr>\n",
       "    <tr>\n",
       "      <th>min</th>\n",
       "      <td>1.000000</td>\n",
       "    </tr>\n",
       "    <tr>\n",
       "      <th>25%</th>\n",
       "      <td>1.000000</td>\n",
       "    </tr>\n",
       "    <tr>\n",
       "      <th>50%</th>\n",
       "      <td>4.000000</td>\n",
       "    </tr>\n",
       "    <tr>\n",
       "      <th>75%</th>\n",
       "      <td>15.000000</td>\n",
       "    </tr>\n",
       "    <tr>\n",
       "      <th>max</th>\n",
       "      <td>6332.000000</td>\n",
       "    </tr>\n",
       "  </tbody>\n",
       "</table>\n",
       "</div>"
      ],
      "text/plain": [
       "               trips\n",
       "count  927710.000000\n",
       "mean       25.817150\n",
       "std        90.150977\n",
       "min         1.000000\n",
       "25%         1.000000\n",
       "50%         4.000000\n",
       "75%        15.000000\n",
       "max      6332.000000"
      ]
     },
     "execution_count": 43,
     "metadata": {},
     "output_type": "execute_result"
    }
   ],
   "source": [
    "df_group.describe()"
   ]
  },
  {
   "cell_type": "code",
   "execution_count": 45,
   "id": "101c8bc1-fa15-4a20-9094-65d08c1080dc",
   "metadata": {},
   "outputs": [
    {
     "name": "stdout",
     "output_type": "stream",
     "text": [
      "23950828\n",
      "(23995071, 8)\n"
     ]
    }
   ],
   "source": [
    "print(df_group ['trips'].sum())\n",
    "print(df.shape)"
   ]
  },
  {
   "cell_type": "code",
   "execution_count": null,
   "id": "38993d1f-b2b1-4867-87b7-53d2a2a3e504",
   "metadata": {},
   "outputs": [],
   "source": [
    "# try merging\n",
    "\n",
    "\n",
    "df_m = df_group.merge(df, how = 'outer', on = \"start_station_name\", indicator = 'merge_flag')"
   ]
  },
  {
   "cell_type": "code",
   "execution_count": 49,
   "id": "1268f412-d8d4-4ade-8317-171940c9c804",
   "metadata": {},
   "outputs": [
    {
     "data": {
      "text/plain": [
       "np.int64(664847)"
      ]
     },
     "execution_count": 49,
     "metadata": {},
     "output_type": "execute_result"
    }
   ],
   "source": [
    "(df_group['trips'] >1).sum()"
   ]
  },
  {
   "cell_type": "code",
   "execution_count": null,
   "id": "287ce265-d50d-4088-b55f-19342cbb54a8",
   "metadata": {},
   "outputs": [],
   "source": []
  },
  {
   "cell_type": "code",
   "execution_count": 12,
   "id": "d5fc5ac9-e86c-4d9f-8125-759c6243d4f5",
   "metadata": {},
   "outputs": [],
   "source": [
    "# Due to the size of the dataframe, we will focus on stations that have more than '1' trip.\n",
    "\n",
    "df_group2=df_group[df_group['trips'] > 1]"
   ]
  },
  {
   "cell_type": "code",
   "execution_count": 13,
   "id": "ddd61092-13ee-4e3a-82c5-90ff673e4b73",
   "metadata": {},
   "outputs": [
    {
     "data": {
      "text/plain": [
       "(745143, 3)"
      ]
     },
     "execution_count": 13,
     "metadata": {},
     "output_type": "execute_result"
    }
   ],
   "source": [
    "df_group2.shape"
   ]
  },
  {
   "cell_type": "code",
   "execution_count": 14,
   "id": "ef3fa466-4108-49f1-ad14-c6094f58b1c4",
   "metadata": {},
   "outputs": [],
   "source": []
  },
  {
   "cell_type": "code",
   "execution_count": 15,
   "id": "c974c0c0-aed8-460d-93f7-317bfcb1851c",
   "metadata": {},
   "outputs": [
    {
     "data": {
      "text/html": [
       "<div>\n",
       "<style scoped>\n",
       "    .dataframe tbody tr th:only-of-type {\n",
       "        vertical-align: middle;\n",
       "    }\n",
       "\n",
       "    .dataframe tbody tr th {\n",
       "        vertical-align: top;\n",
       "    }\n",
       "\n",
       "    .dataframe thead th {\n",
       "        text-align: right;\n",
       "    }\n",
       "</style>\n",
       "<table border=\"1\" class=\"dataframe\">\n",
       "  <thead>\n",
       "    <tr style=\"text-align: right;\">\n",
       "      <th></th>\n",
       "      <th>start_station_name</th>\n",
       "      <th>start_lat</th>\n",
       "      <th>DATE</th>\n",
       "    </tr>\n",
       "  </thead>\n",
       "  <tbody>\n",
       "    <tr>\n",
       "      <th>0</th>\n",
       "      <td>Berkeley Pl &amp; 6 Ave</td>\n",
       "      <td>40.676530</td>\n",
       "      <td>2022-08-26</td>\n",
       "    </tr>\n",
       "    <tr>\n",
       "      <th>1</th>\n",
       "      <td>21 St &amp; 4 Ave</td>\n",
       "      <td>40.662584</td>\n",
       "      <td>2022-08-03</td>\n",
       "    </tr>\n",
       "    <tr>\n",
       "      <th>2</th>\n",
       "      <td>48 St &amp; Barnett Ave</td>\n",
       "      <td>40.750016</td>\n",
       "      <td>2022-08-11</td>\n",
       "    </tr>\n",
       "    <tr>\n",
       "      <th>3</th>\n",
       "      <td>7 Ave &amp; Central Park South</td>\n",
       "      <td>40.766741</td>\n",
       "      <td>2022-08-10</td>\n",
       "    </tr>\n",
       "    <tr>\n",
       "      <th>4</th>\n",
       "      <td>Jerome Ave &amp; W 195 St</td>\n",
       "      <td>40.868858</td>\n",
       "      <td>2022-08-31</td>\n",
       "    </tr>\n",
       "  </tbody>\n",
       "</table>\n",
       "</div>"
      ],
      "text/plain": [
       "           start_station_name  start_lat        DATE\n",
       "0         Berkeley Pl & 6 Ave  40.676530  2022-08-26\n",
       "1               21 St & 4 Ave  40.662584  2022-08-03\n",
       "2         48 St & Barnett Ave  40.750016  2022-08-11\n",
       "3  7 Ave & Central Park South  40.766741  2022-08-10\n",
       "4       Jerome Ave & W 195 St  40.868858  2022-08-31"
      ]
     },
     "execution_count": 15,
     "metadata": {},
     "output_type": "execute_result"
    }
   ],
   "source": [
    "df1.head()"
   ]
  },
  {
   "cell_type": "code",
   "execution_count": 16,
   "id": "202db760-8f6e-4013-aec8-6a6e7bc47305",
   "metadata": {},
   "outputs": [
    {
     "data": {
      "text/html": [
       "<div>\n",
       "<style scoped>\n",
       "    .dataframe tbody tr th:only-of-type {\n",
       "        vertical-align: middle;\n",
       "    }\n",
       "\n",
       "    .dataframe tbody tr th {\n",
       "        vertical-align: top;\n",
       "    }\n",
       "\n",
       "    .dataframe thead th {\n",
       "        text-align: right;\n",
       "    }\n",
       "</style>\n",
       "<table border=\"1\" class=\"dataframe\">\n",
       "  <thead>\n",
       "    <tr style=\"text-align: right;\">\n",
       "      <th></th>\n",
       "      <th>start_station_name</th>\n",
       "      <th>end_station_name</th>\n",
       "      <th>trips</th>\n",
       "    </tr>\n",
       "  </thead>\n",
       "  <tbody>\n",
       "    <tr>\n",
       "      <th>0</th>\n",
       "      <td>1 Ave &amp; E 110 St</td>\n",
       "      <td>1 Ave &amp; E 110 St</td>\n",
       "      <td>1473</td>\n",
       "    </tr>\n",
       "    <tr>\n",
       "      <th>1</th>\n",
       "      <td>1 Ave &amp; E 110 St</td>\n",
       "      <td>1 Ave &amp; E 18 St</td>\n",
       "      <td>2</td>\n",
       "    </tr>\n",
       "    <tr>\n",
       "      <th>2</th>\n",
       "      <td>1 Ave &amp; E 110 St</td>\n",
       "      <td>1 Ave &amp; E 30 St</td>\n",
       "      <td>4</td>\n",
       "    </tr>\n",
       "    <tr>\n",
       "      <th>4</th>\n",
       "      <td>1 Ave &amp; E 110 St</td>\n",
       "      <td>1 Ave &amp; E 44 St</td>\n",
       "      <td>12</td>\n",
       "    </tr>\n",
       "    <tr>\n",
       "      <th>6</th>\n",
       "      <td>1 Ave &amp; E 110 St</td>\n",
       "      <td>1 Ave &amp; E 62 St</td>\n",
       "      <td>27</td>\n",
       "    </tr>\n",
       "  </tbody>\n",
       "</table>\n",
       "</div>"
      ],
      "text/plain": [
       "  start_station_name  end_station_name  trips\n",
       "0   1 Ave & E 110 St  1 Ave & E 110 St   1473\n",
       "1   1 Ave & E 110 St   1 Ave & E 18 St      2\n",
       "2   1 Ave & E 110 St   1 Ave & E 30 St      4\n",
       "4   1 Ave & E 110 St   1 Ave & E 44 St     12\n",
       "6   1 Ave & E 110 St   1 Ave & E 62 St     27"
      ]
     },
     "execution_count": 16,
     "metadata": {},
     "output_type": "execute_result"
    }
   ],
   "source": [
    "df_group2.head()"
   ]
  },
  {
   "cell_type": "code",
   "execution_count": 17,
   "id": "46f834e5-fade-4472-ad2d-34b350ef6538",
   "metadata": {},
   "outputs": [
    {
     "data": {
      "text/plain": [
       "(745143, 3)"
      ]
     },
     "execution_count": 17,
     "metadata": {},
     "output_type": "execute_result"
    }
   ],
   "source": [
    "df_group2.shape"
   ]
  },
  {
   "cell_type": "code",
   "execution_count": 33,
   "id": "aefefa09-5863-405a-83b5-b0a6acf3af18",
   "metadata": {},
   "outputs": [
    {
     "data": {
      "text/plain": [
       "(30689921, 3)"
      ]
     },
     "execution_count": 33,
     "metadata": {},
     "output_type": "execute_result"
    }
   ],
   "source": [
    "df1.shape"
   ]
  },
  {
   "cell_type": "code",
   "execution_count": null,
   "id": "d71b25ba-7cea-4e99-b6b9-15bbb1ed1c49",
   "metadata": {},
   "outputs": [],
   "source": [
    "#kernel keeps crashing\n",
    "\n",
    "df2 = pd.merge (df_group2, df1, on = 'start_station_name', how = 'left')\n",
    "\n",
    "\n",
    "example:\n",
    "\n",
    "df_m = df_group.merge(df_stations, how = 'outer', on = \"start_station_name\", indicator = 'merge_flag')"
   ]
  },
  {
   "cell_type": "code",
   "execution_count": null,
   "id": "3fdf97c6-7e83-47bd-a18f-68eb26637473",
   "metadata": {},
   "outputs": [],
   "source": [
    "df1.datatypes"
   ]
  },
  {
   "cell_type": "code",
   "execution_count": null,
   "id": "71907a68-51fb-4803-ad21-3b39c73db00c",
   "metadata": {},
   "outputs": [],
   "source": []
  },
  {
   "cell_type": "markdown",
   "id": "1ad9b90c-f78f-4a01-8005-07f5abcef274",
   "metadata": {},
   "source": [
    "# Notes\n",
    "\n",
    "Remove casual members to reduce data set\n",
    "\n",
    "Check if kernel still crashes"
   ]
  },
  {
   "cell_type": "code",
   "execution_count": null,
   "id": "de3c6aa8-9305-4728-9ba2-85987b9c6e36",
   "metadata": {},
   "outputs": [],
   "source": []
  }
 ],
 "metadata": {
  "kernelspec": {
   "display_name": "Python [conda env:venv_citibike]",
   "language": "python",
   "name": "conda-env-venv_citibike-py"
  },
  "language_info": {
   "codemirror_mode": {
    "name": "ipython",
    "version": 3
   },
   "file_extension": ".py",
   "mimetype": "text/x-python",
   "name": "python",
   "nbconvert_exporter": "python",
   "pygments_lexer": "ipython3",
   "version": "3.12.4"
  }
 },
 "nbformat": 4,
 "nbformat_minor": 5
}
