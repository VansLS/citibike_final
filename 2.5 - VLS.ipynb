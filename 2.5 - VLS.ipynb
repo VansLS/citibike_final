{
 "cells": [
  {
   "cell_type": "code",
   "execution_count": 1,
   "id": "19992a3a-7f83-4cc5-bbf0-7b1c92039da3",
   "metadata": {},
   "outputs": [],
   "source": [
    "import pandas as pd\n",
    "import os\n",
    "from keplergl import KeplerGl\n",
    "from pyproj import CRS\n",
    "import numpy as np\n",
    "from matplotlib import pyplot as plt"
   ]
  },
  {
   "cell_type": "code",
   "execution_count": 2,
   "id": "cf549dfe-25e2-4f8d-86e1-7766e4024a7e",
   "metadata": {},
   "outputs": [],
   "source": [
    "df = pd.read_csv('largedata_weather_trips_2022.csv', usecols=['start_lat', 'start_lng','end_lat','end_lng','end_station_name', 'start_station_name'])"
   ]
  },
  {
   "cell_type": "code",
   "execution_count": 3,
   "id": "d4ce6756-3a89-498a-b7a8-c2e016f04d19",
   "metadata": {},
   "outputs": [
    {
     "data": {
      "text/html": [
       "<div>\n",
       "<style scoped>\n",
       "    .dataframe tbody tr th:only-of-type {\n",
       "        vertical-align: middle;\n",
       "    }\n",
       "\n",
       "    .dataframe tbody tr th {\n",
       "        vertical-align: top;\n",
       "    }\n",
       "\n",
       "    .dataframe thead th {\n",
       "        text-align: right;\n",
       "    }\n",
       "</style>\n",
       "<table border=\"1\" class=\"dataframe\">\n",
       "  <thead>\n",
       "    <tr style=\"text-align: right;\">\n",
       "      <th></th>\n",
       "      <th>start_station_name</th>\n",
       "      <th>end_station_name</th>\n",
       "      <th>start_lat</th>\n",
       "      <th>start_lng</th>\n",
       "      <th>end_lat</th>\n",
       "      <th>end_lng</th>\n",
       "    </tr>\n",
       "  </thead>\n",
       "  <tbody>\n",
       "    <tr>\n",
       "      <th>0</th>\n",
       "      <td>Berkeley Pl &amp; 6 Ave</td>\n",
       "      <td>Windsor Pl &amp; 8 Ave</td>\n",
       "      <td>40.676530</td>\n",
       "      <td>-73.978469</td>\n",
       "      <td>40.660906</td>\n",
       "      <td>-73.983074</td>\n",
       "    </tr>\n",
       "    <tr>\n",
       "      <th>1</th>\n",
       "      <td>21 St &amp; 4 Ave</td>\n",
       "      <td>Degraw St &amp; Smith St</td>\n",
       "      <td>40.662584</td>\n",
       "      <td>-73.995554</td>\n",
       "      <td>40.682915</td>\n",
       "      <td>-73.993182</td>\n",
       "    </tr>\n",
       "    <tr>\n",
       "      <th>2</th>\n",
       "      <td>48 St &amp; Barnett Ave</td>\n",
       "      <td>Queens Plaza North &amp; Crescent St</td>\n",
       "      <td>40.750016</td>\n",
       "      <td>-73.915409</td>\n",
       "      <td>40.751102</td>\n",
       "      <td>-73.940737</td>\n",
       "    </tr>\n",
       "    <tr>\n",
       "      <th>3</th>\n",
       "      <td>7 Ave &amp; Central Park South</td>\n",
       "      <td>8 Ave &amp; W 33 St</td>\n",
       "      <td>40.766741</td>\n",
       "      <td>-73.979069</td>\n",
       "      <td>40.751551</td>\n",
       "      <td>-73.993934</td>\n",
       "    </tr>\n",
       "    <tr>\n",
       "      <th>4</th>\n",
       "      <td>Jerome Ave &amp; W 195 St</td>\n",
       "      <td>Sherman Ave &amp; E 166 St</td>\n",
       "      <td>40.868858</td>\n",
       "      <td>-73.896500</td>\n",
       "      <td>40.831305</td>\n",
       "      <td>-73.917448</td>\n",
       "    </tr>\n",
       "  </tbody>\n",
       "</table>\n",
       "</div>"
      ],
      "text/plain": [
       "           start_station_name                  end_station_name  start_lat  \\\n",
       "0         Berkeley Pl & 6 Ave                Windsor Pl & 8 Ave  40.676530   \n",
       "1               21 St & 4 Ave              Degraw St & Smith St  40.662584   \n",
       "2         48 St & Barnett Ave  Queens Plaza North & Crescent St  40.750016   \n",
       "3  7 Ave & Central Park South                   8 Ave & W 33 St  40.766741   \n",
       "4       Jerome Ave & W 195 St            Sherman Ave & E 166 St  40.868858   \n",
       "\n",
       "   start_lng    end_lat    end_lng  \n",
       "0 -73.978469  40.660906 -73.983074  \n",
       "1 -73.995554  40.682915 -73.993182  \n",
       "2 -73.915409  40.751102 -73.940737  \n",
       "3 -73.979069  40.751551 -73.993934  \n",
       "4 -73.896500  40.831305 -73.917448  "
      ]
     },
     "execution_count": 3,
     "metadata": {},
     "output_type": "execute_result"
    }
   ],
   "source": [
    "df.head()"
   ]
  },
  {
   "cell_type": "code",
   "execution_count": 4,
   "id": "0e90ed28-06cd-48b8-9233-8376482cdd9d",
   "metadata": {},
   "outputs": [],
   "source": [
    "df['value']=1\n",
    "df_group=df.groupby(['start_station_name' , 'end_station_name'])['value'].count().reset_index()"
   ]
  },
  {
   "cell_type": "code",
   "execution_count": 5,
   "id": "0e78fe7b-e8fc-486b-9c71-2b1326739f29",
   "metadata": {},
   "outputs": [],
   "source": [
    "df_group.rename(columns={'value':'trips'}, inplace=True)"
   ]
  },
  {
   "cell_type": "code",
   "execution_count": 6,
   "id": "c6c8c82c-ac36-47a9-9abb-4d5e45b460e9",
   "metadata": {
    "scrolled": true
   },
   "outputs": [
    {
     "data": {
      "text/html": [
       "<div>\n",
       "<style scoped>\n",
       "    .dataframe tbody tr th:only-of-type {\n",
       "        vertical-align: middle;\n",
       "    }\n",
       "\n",
       "    .dataframe tbody tr th {\n",
       "        vertical-align: top;\n",
       "    }\n",
       "\n",
       "    .dataframe thead th {\n",
       "        text-align: right;\n",
       "    }\n",
       "</style>\n",
       "<table border=\"1\" class=\"dataframe\">\n",
       "  <thead>\n",
       "    <tr style=\"text-align: right;\">\n",
       "      <th></th>\n",
       "      <th>start_station_name</th>\n",
       "      <th>end_station_name</th>\n",
       "      <th>trips</th>\n",
       "    </tr>\n",
       "  </thead>\n",
       "  <tbody>\n",
       "    <tr>\n",
       "      <th>0</th>\n",
       "      <td>1 Ave &amp; E 110 St</td>\n",
       "      <td>1 Ave &amp; E 110 St</td>\n",
       "      <td>1473</td>\n",
       "    </tr>\n",
       "    <tr>\n",
       "      <th>1</th>\n",
       "      <td>1 Ave &amp; E 110 St</td>\n",
       "      <td>1 Ave &amp; E 18 St</td>\n",
       "      <td>2</td>\n",
       "    </tr>\n",
       "    <tr>\n",
       "      <th>2</th>\n",
       "      <td>1 Ave &amp; E 110 St</td>\n",
       "      <td>1 Ave &amp; E 30 St</td>\n",
       "      <td>4</td>\n",
       "    </tr>\n",
       "    <tr>\n",
       "      <th>3</th>\n",
       "      <td>1 Ave &amp; E 110 St</td>\n",
       "      <td>1 Ave &amp; E 39 St</td>\n",
       "      <td>1</td>\n",
       "    </tr>\n",
       "    <tr>\n",
       "      <th>4</th>\n",
       "      <td>1 Ave &amp; E 110 St</td>\n",
       "      <td>1 Ave &amp; E 44 St</td>\n",
       "      <td>12</td>\n",
       "    </tr>\n",
       "  </tbody>\n",
       "</table>\n",
       "</div>"
      ],
      "text/plain": [
       "  start_station_name  end_station_name  trips\n",
       "0   1 Ave & E 110 St  1 Ave & E 110 St   1473\n",
       "1   1 Ave & E 110 St   1 Ave & E 18 St      2\n",
       "2   1 Ave & E 110 St   1 Ave & E 30 St      4\n",
       "3   1 Ave & E 110 St   1 Ave & E 39 St      1\n",
       "4   1 Ave & E 110 St   1 Ave & E 44 St     12"
      ]
     },
     "execution_count": 6,
     "metadata": {},
     "output_type": "execute_result"
    }
   ],
   "source": [
    "df_group.head()"
   ]
  },
  {
   "cell_type": "code",
   "execution_count": 7,
   "id": "101c8bc1-fa15-4a20-9094-65d08c1080dc",
   "metadata": {},
   "outputs": [
    {
     "name": "stdout",
     "output_type": "stream",
     "text": [
      "30618148\n",
      "(30689921, 7)\n"
     ]
    }
   ],
   "source": [
    "print(df_group ['trips'].sum())\n",
    "print(df.shape)"
   ]
  },
  {
   "cell_type": "code",
   "execution_count": 8,
   "id": "9e66a3bb-5b71-472a-93b5-b6f398664789",
   "metadata": {},
   "outputs": [
    {
     "data": {
      "text/plain": [
       "(1013414, 3)"
      ]
     },
     "execution_count": 8,
     "metadata": {},
     "output_type": "execute_result"
    }
   ],
   "source": [
    "df_group.shape"
   ]
  },
  {
   "cell_type": "code",
   "execution_count": 9,
   "id": "16c3e1ae-4f7d-4791-bfe7-805cbb874039",
   "metadata": {},
   "outputs": [],
   "source": [
    "df_m = pd.merge(df, df_group, on = ['start_station_name', 'end_station_name'], how = 'inner')"
   ]
  },
  {
   "cell_type": "code",
   "execution_count": 10,
   "id": "0f18f3d8-1f21-43a8-b6f3-981a2bc304d8",
   "metadata": {},
   "outputs": [],
   "source": [
    "df_m=df_m.drop(columns= ['value'])"
   ]
  },
  {
   "cell_type": "code",
   "execution_count": 13,
   "id": "b4efd3ad-3452-460b-8a7e-bf4e87351a32",
   "metadata": {},
   "outputs": [
    {
     "data": {
      "text/html": [
       "<div>\n",
       "<style scoped>\n",
       "    .dataframe tbody tr th:only-of-type {\n",
       "        vertical-align: middle;\n",
       "    }\n",
       "\n",
       "    .dataframe tbody tr th {\n",
       "        vertical-align: top;\n",
       "    }\n",
       "\n",
       "    .dataframe thead th {\n",
       "        text-align: right;\n",
       "    }\n",
       "</style>\n",
       "<table border=\"1\" class=\"dataframe\">\n",
       "  <thead>\n",
       "    <tr style=\"text-align: right;\">\n",
       "      <th></th>\n",
       "      <th>start_station_name</th>\n",
       "      <th>end_station_name</th>\n",
       "      <th>start_lat</th>\n",
       "      <th>start_lng</th>\n",
       "      <th>end_lat</th>\n",
       "      <th>end_lng</th>\n",
       "      <th>trips</th>\n",
       "    </tr>\n",
       "  </thead>\n",
       "  <tbody>\n",
       "    <tr>\n",
       "      <th>0</th>\n",
       "      <td>Berkeley Pl &amp; 6 Ave</td>\n",
       "      <td>Windsor Pl &amp; 8 Ave</td>\n",
       "      <td>40.676530</td>\n",
       "      <td>-73.978469</td>\n",
       "      <td>40.660906</td>\n",
       "      <td>-73.983074</td>\n",
       "      <td>23</td>\n",
       "    </tr>\n",
       "    <tr>\n",
       "      <th>1</th>\n",
       "      <td>21 St &amp; 4 Ave</td>\n",
       "      <td>Degraw St &amp; Smith St</td>\n",
       "      <td>40.662584</td>\n",
       "      <td>-73.995554</td>\n",
       "      <td>40.682915</td>\n",
       "      <td>-73.993182</td>\n",
       "      <td>32</td>\n",
       "    </tr>\n",
       "  </tbody>\n",
       "</table>\n",
       "</div>"
      ],
      "text/plain": [
       "    start_station_name      end_station_name  start_lat  start_lng    end_lat  \\\n",
       "0  Berkeley Pl & 6 Ave    Windsor Pl & 8 Ave  40.676530 -73.978469  40.660906   \n",
       "1        21 St & 4 Ave  Degraw St & Smith St  40.662584 -73.995554  40.682915   \n",
       "\n",
       "     end_lng  trips  \n",
       "0 -73.983074     23  \n",
       "1 -73.993182     32  "
      ]
     },
     "execution_count": 13,
     "metadata": {},
     "output_type": "execute_result"
    }
   ],
   "source": [
    "df_m.head(2)"
   ]
  },
  {
   "cell_type": "code",
   "execution_count": 14,
   "id": "a418cf9d-fda6-44fb-b3f9-70261407dbb5",
   "metadata": {
    "scrolled": true
   },
   "outputs": [
    {
     "data": {
      "text/html": [
       "<div>\n",
       "<style scoped>\n",
       "    .dataframe tbody tr th:only-of-type {\n",
       "        vertical-align: middle;\n",
       "    }\n",
       "\n",
       "    .dataframe tbody tr th {\n",
       "        vertical-align: top;\n",
       "    }\n",
       "\n",
       "    .dataframe thead th {\n",
       "        text-align: right;\n",
       "    }\n",
       "</style>\n",
       "<table border=\"1\" class=\"dataframe\">\n",
       "  <thead>\n",
       "    <tr style=\"text-align: right;\">\n",
       "      <th></th>\n",
       "      <th>start_station_name</th>\n",
       "      <th>end_station_name</th>\n",
       "      <th>Latitude_x</th>\n",
       "      <th>Longitude_x</th>\n",
       "      <th>Latitude_y</th>\n",
       "      <th>Longitude_y</th>\n",
       "      <th>trips</th>\n",
       "    </tr>\n",
       "  </thead>\n",
       "  <tbody>\n",
       "    <tr>\n",
       "      <th>0</th>\n",
       "      <td>Berkeley Pl &amp; 6 Ave</td>\n",
       "      <td>Windsor Pl &amp; 8 Ave</td>\n",
       "      <td>40.676530</td>\n",
       "      <td>-73.978469</td>\n",
       "      <td>40.660906</td>\n",
       "      <td>-73.983074</td>\n",
       "      <td>23</td>\n",
       "    </tr>\n",
       "    <tr>\n",
       "      <th>1</th>\n",
       "      <td>21 St &amp; 4 Ave</td>\n",
       "      <td>Degraw St &amp; Smith St</td>\n",
       "      <td>40.662584</td>\n",
       "      <td>-73.995554</td>\n",
       "      <td>40.682915</td>\n",
       "      <td>-73.993182</td>\n",
       "      <td>32</td>\n",
       "    </tr>\n",
       "    <tr>\n",
       "      <th>2</th>\n",
       "      <td>48 St &amp; Barnett Ave</td>\n",
       "      <td>Queens Plaza North &amp; Crescent St</td>\n",
       "      <td>40.750016</td>\n",
       "      <td>-73.915409</td>\n",
       "      <td>40.751102</td>\n",
       "      <td>-73.940737</td>\n",
       "      <td>17</td>\n",
       "    </tr>\n",
       "    <tr>\n",
       "      <th>3</th>\n",
       "      <td>7 Ave &amp; Central Park South</td>\n",
       "      <td>8 Ave &amp; W 33 St</td>\n",
       "      <td>40.766741</td>\n",
       "      <td>-73.979069</td>\n",
       "      <td>40.751551</td>\n",
       "      <td>-73.993934</td>\n",
       "      <td>173</td>\n",
       "    </tr>\n",
       "    <tr>\n",
       "      <th>4</th>\n",
       "      <td>Jerome Ave &amp; W 195 St</td>\n",
       "      <td>Sherman Ave &amp; E 166 St</td>\n",
       "      <td>40.868858</td>\n",
       "      <td>-73.896500</td>\n",
       "      <td>40.831305</td>\n",
       "      <td>-73.917448</td>\n",
       "      <td>7</td>\n",
       "    </tr>\n",
       "    <tr>\n",
       "      <th>...</th>\n",
       "      <td>...</td>\n",
       "      <td>...</td>\n",
       "      <td>...</td>\n",
       "      <td>...</td>\n",
       "      <td>...</td>\n",
       "      <td>...</td>\n",
       "      <td>...</td>\n",
       "    </tr>\n",
       "    <tr>\n",
       "      <th>30618143</th>\n",
       "      <td>E 41 St &amp; Madison Ave (SW corner)</td>\n",
       "      <td>6 Ave &amp; W 33 St</td>\n",
       "      <td>40.752165</td>\n",
       "      <td>-73.979922</td>\n",
       "      <td>40.749013</td>\n",
       "      <td>-73.988484</td>\n",
       "      <td>647</td>\n",
       "    </tr>\n",
       "    <tr>\n",
       "      <th>30618144</th>\n",
       "      <td>Peck Slip &amp; South St</td>\n",
       "      <td>Vesey St &amp; Church St</td>\n",
       "      <td>40.707689</td>\n",
       "      <td>-74.001254</td>\n",
       "      <td>40.712220</td>\n",
       "      <td>-74.010472</td>\n",
       "      <td>114</td>\n",
       "    </tr>\n",
       "    <tr>\n",
       "      <th>30618145</th>\n",
       "      <td>E 41 St &amp; Madison Ave (SW corner)</td>\n",
       "      <td>Lenox Ave &amp; W 111 St</td>\n",
       "      <td>40.752399</td>\n",
       "      <td>-73.980150</td>\n",
       "      <td>40.798786</td>\n",
       "      <td>-73.952300</td>\n",
       "      <td>12</td>\n",
       "    </tr>\n",
       "    <tr>\n",
       "      <th>30618146</th>\n",
       "      <td>W 37 St &amp; 10 Ave</td>\n",
       "      <td>W 70 St &amp; Amsterdam Ave</td>\n",
       "      <td>40.756604</td>\n",
       "      <td>-73.997901</td>\n",
       "      <td>40.777480</td>\n",
       "      <td>-73.982886</td>\n",
       "      <td>116</td>\n",
       "    </tr>\n",
       "    <tr>\n",
       "      <th>30618147</th>\n",
       "      <td>W 37 St &amp; 10 Ave</td>\n",
       "      <td>6 Ave &amp; W 33 St</td>\n",
       "      <td>40.756604</td>\n",
       "      <td>-73.997901</td>\n",
       "      <td>40.749013</td>\n",
       "      <td>-73.988484</td>\n",
       "      <td>536</td>\n",
       "    </tr>\n",
       "  </tbody>\n",
       "</table>\n",
       "<p>30618148 rows × 7 columns</p>\n",
       "</div>"
      ],
      "text/plain": [
       "                         start_station_name                  end_station_name  \\\n",
       "0                       Berkeley Pl & 6 Ave                Windsor Pl & 8 Ave   \n",
       "1                             21 St & 4 Ave              Degraw St & Smith St   \n",
       "2                       48 St & Barnett Ave  Queens Plaza North & Crescent St   \n",
       "3                7 Ave & Central Park South                   8 Ave & W 33 St   \n",
       "4                     Jerome Ave & W 195 St            Sherman Ave & E 166 St   \n",
       "...                                     ...                               ...   \n",
       "30618143  E 41 St & Madison Ave (SW corner)                   6 Ave & W 33 St   \n",
       "30618144               Peck Slip & South St              Vesey St & Church St   \n",
       "30618145  E 41 St & Madison Ave (SW corner)              Lenox Ave & W 111 St   \n",
       "30618146                   W 37 St & 10 Ave           W 70 St & Amsterdam Ave   \n",
       "30618147                   W 37 St & 10 Ave                   6 Ave & W 33 St   \n",
       "\n",
       "          Latitude_x  Longitude_x  Latitude_y  Longitude_y  trips  \n",
       "0          40.676530   -73.978469   40.660906   -73.983074     23  \n",
       "1          40.662584   -73.995554   40.682915   -73.993182     32  \n",
       "2          40.750016   -73.915409   40.751102   -73.940737     17  \n",
       "3          40.766741   -73.979069   40.751551   -73.993934    173  \n",
       "4          40.868858   -73.896500   40.831305   -73.917448      7  \n",
       "...              ...          ...         ...          ...    ...  \n",
       "30618143   40.752165   -73.979922   40.749013   -73.988484    647  \n",
       "30618144   40.707689   -74.001254   40.712220   -74.010472    114  \n",
       "30618145   40.752399   -73.980150   40.798786   -73.952300     12  \n",
       "30618146   40.756604   -73.997901   40.777480   -73.982886    116  \n",
       "30618147   40.756604   -73.997901   40.749013   -73.988484    536  \n",
       "\n",
       "[30618148 rows x 7 columns]"
      ]
     },
     "execution_count": 14,
     "metadata": {},
     "output_type": "execute_result"
    }
   ],
   "source": [
    "df_m.rename(columns = {'start_lat':'Latitude_x', 'start_lng':'Longitude_x', 'end_lat':'Latitude_y', \n",
    "                       'end_lng': 'Longitude_y'})"
   ]
  },
  {
   "cell_type": "code",
   "execution_count": 15,
   "id": "b76fd947-8b70-45db-a88c-37d28d776a6d",
   "metadata": {},
   "outputs": [
    {
     "data": {
      "text/plain": [
       "(30618148, 7)"
      ]
     },
     "execution_count": 15,
     "metadata": {},
     "output_type": "execute_result"
    }
   ],
   "source": [
    "df_m.shape "
   ]
  },
  {
   "cell_type": "code",
   "execution_count": 16,
   "id": "a7319e38-e047-41dc-9d98-511845179d8f",
   "metadata": {},
   "outputs": [
    {
     "data": {
      "text/html": [
       "<div>\n",
       "<style scoped>\n",
       "    .dataframe tbody tr th:only-of-type {\n",
       "        vertical-align: middle;\n",
       "    }\n",
       "\n",
       "    .dataframe tbody tr th {\n",
       "        vertical-align: top;\n",
       "    }\n",
       "\n",
       "    .dataframe thead th {\n",
       "        text-align: right;\n",
       "    }\n",
       "</style>\n",
       "<table border=\"1\" class=\"dataframe\">\n",
       "  <thead>\n",
       "    <tr style=\"text-align: right;\">\n",
       "      <th></th>\n",
       "      <th>start_station_name</th>\n",
       "      <th>end_station_name</th>\n",
       "      <th>start_lat</th>\n",
       "      <th>start_lng</th>\n",
       "      <th>end_lat</th>\n",
       "      <th>end_lng</th>\n",
       "      <th>trips</th>\n",
       "    </tr>\n",
       "  </thead>\n",
       "  <tbody>\n",
       "    <tr>\n",
       "      <th>0</th>\n",
       "      <td>Berkeley Pl &amp; 6 Ave</td>\n",
       "      <td>Windsor Pl &amp; 8 Ave</td>\n",
       "      <td>40.676530</td>\n",
       "      <td>-73.978469</td>\n",
       "      <td>40.660906</td>\n",
       "      <td>-73.983074</td>\n",
       "      <td>23</td>\n",
       "    </tr>\n",
       "    <tr>\n",
       "      <th>1</th>\n",
       "      <td>21 St &amp; 4 Ave</td>\n",
       "      <td>Degraw St &amp; Smith St</td>\n",
       "      <td>40.662584</td>\n",
       "      <td>-73.995554</td>\n",
       "      <td>40.682915</td>\n",
       "      <td>-73.993182</td>\n",
       "      <td>32</td>\n",
       "    </tr>\n",
       "    <tr>\n",
       "      <th>2</th>\n",
       "      <td>48 St &amp; Barnett Ave</td>\n",
       "      <td>Queens Plaza North &amp; Crescent St</td>\n",
       "      <td>40.750016</td>\n",
       "      <td>-73.915409</td>\n",
       "      <td>40.751102</td>\n",
       "      <td>-73.940737</td>\n",
       "      <td>17</td>\n",
       "    </tr>\n",
       "    <tr>\n",
       "      <th>3</th>\n",
       "      <td>7 Ave &amp; Central Park South</td>\n",
       "      <td>8 Ave &amp; W 33 St</td>\n",
       "      <td>40.766741</td>\n",
       "      <td>-73.979069</td>\n",
       "      <td>40.751551</td>\n",
       "      <td>-73.993934</td>\n",
       "      <td>173</td>\n",
       "    </tr>\n",
       "    <tr>\n",
       "      <th>4</th>\n",
       "      <td>Jerome Ave &amp; W 195 St</td>\n",
       "      <td>Sherman Ave &amp; E 166 St</td>\n",
       "      <td>40.868858</td>\n",
       "      <td>-73.896500</td>\n",
       "      <td>40.831305</td>\n",
       "      <td>-73.917448</td>\n",
       "      <td>7</td>\n",
       "    </tr>\n",
       "  </tbody>\n",
       "</table>\n",
       "</div>"
      ],
      "text/plain": [
       "           start_station_name                  end_station_name  start_lat  \\\n",
       "0         Berkeley Pl & 6 Ave                Windsor Pl & 8 Ave  40.676530   \n",
       "1               21 St & 4 Ave              Degraw St & Smith St  40.662584   \n",
       "2         48 St & Barnett Ave  Queens Plaza North & Crescent St  40.750016   \n",
       "3  7 Ave & Central Park South                   8 Ave & W 33 St  40.766741   \n",
       "4       Jerome Ave & W 195 St            Sherman Ave & E 166 St  40.868858   \n",
       "\n",
       "   start_lng    end_lat    end_lng  trips  \n",
       "0 -73.978469  40.660906 -73.983074     23  \n",
       "1 -73.995554  40.682915 -73.993182     32  \n",
       "2 -73.915409  40.751102 -73.940737     17  \n",
       "3 -73.979069  40.751551 -73.993934    173  \n",
       "4 -73.896500  40.831305 -73.917448      7  "
      ]
     },
     "execution_count": 16,
     "metadata": {},
     "output_type": "execute_result"
    }
   ],
   "source": [
    "df_m.head()"
   ]
  },
  {
   "cell_type": "code",
   "execution_count": 17,
   "id": "24029f3e-5e12-406e-9f85-a797bed61167",
   "metadata": {},
   "outputs": [],
   "source": [
    "sample_df = df_m.sample(n=200000, random_state=1)"
   ]
  },
  {
   "cell_type": "code",
   "execution_count": 18,
   "id": "6bd6c060-fb7b-4b98-9b5a-c14b15452a42",
   "metadata": {},
   "outputs": [
    {
     "data": {
      "text/plain": [
       "start_station_name    0\n",
       "end_station_name      0\n",
       "start_lat             0\n",
       "start_lng             0\n",
       "end_lat               0\n",
       "end_lng               0\n",
       "trips                 0\n",
       "dtype: int64"
      ]
     },
     "execution_count": 18,
     "metadata": {},
     "output_type": "execute_result"
    }
   ],
   "source": [
    "sample_df.isna().sum()"
   ]
  },
  {
   "cell_type": "code",
   "execution_count": 19,
   "id": "e2bc3e07-518f-456f-968b-ac18ac63ce85",
   "metadata": {},
   "outputs": [
    {
     "data": {
      "text/plain": [
       "1746"
      ]
     },
     "execution_count": 19,
     "metadata": {},
     "output_type": "execute_result"
    }
   ],
   "source": [
    "import gc  # This imports the garbage collector module.\n",
    "gc.collect()  # This triggers the garbage collector to free up memory."
   ]
  },
  {
   "cell_type": "code",
   "execution_count": 37,
   "id": "f87da014-2158-4a34-9962-f5451fe81254",
   "metadata": {
    "scrolled": true
   },
   "outputs": [
    {
     "name": "stdout",
     "output_type": "stream",
     "text": [
      "User Guide: https://docs.kepler.gl/docs/keplergl-jupyter\n"
     ]
    }
   ],
   "source": [
    "m = KeplerGl(height = 600, data={\"New York Bike Rides\": sample_df})"
   ]
  },
  {
   "cell_type": "code",
   "execution_count": 38,
   "id": "ec52c9a3",
   "metadata": {},
   "outputs": [
    {
     "data": {
      "application/vnd.jupyter.widget-view+json": {
       "model_id": "47ec65c86823485d81bfaa41521a46a7",
       "version_major": 2,
       "version_minor": 0
      },
      "text/plain": [
       "KeplerGl(data={'New York Bike Rides':                  start_station_name         end_station_name  start_lat …"
      ]
     },
     "metadata": {},
     "output_type": "display_data"
    }
   ],
   "source": [
    "m"
   ]
  },
  {
   "cell_type": "markdown",
   "id": "faca99d6",
   "metadata": {},
   "source": [
    "##### The colours were changed to a combination of yellow and blue to complement each other. The stroke line size was adjusted to 2.\n",
    "\n",
    "#### Some of the most common trips occur in popular areas that also attract tourists such as central park, the Meatpacking district, the east side, and neighbourhoods in Brooklyn. \n"
   ]
  },
  {
   "cell_type": "code",
   "execution_count": 39,
   "id": "201b51c5-9482-4556-a91f-f88769982a9c",
   "metadata": {},
   "outputs": [],
   "source": [
    "config = m.config"
   ]
  },
  {
   "cell_type": "code",
   "execution_count": 40,
   "id": "bb296d71-f681-49c8-b3ea-53b8352c899b",
   "metadata": {},
   "outputs": [],
   "source": [
    "import json\n",
    "with open(\"config.json\", \"w\") as outfile:\n",
    "    json.dump(config, outfile)"
   ]
  },
  {
   "cell_type": "code",
   "execution_count": 41,
   "id": "a066b654-961d-4d79-9287-9b5e781409aa",
   "metadata": {},
   "outputs": [
    {
     "name": "stdout",
     "output_type": "stream",
     "text": [
      "Map saved to NewYorkBikeTrips.html!\n"
     ]
    }
   ],
   "source": [
    "m.save_to_html(file_name = 'NewYorkBikeTrips.html', read_only = False, config = config)"
   ]
  },
  {
   "cell_type": "code",
   "execution_count": null,
   "id": "0a5832fc",
   "metadata": {},
   "outputs": [],
   "source": []
  }
 ],
 "metadata": {
  "kernelspec": {
   "display_name": "kepler",
   "language": "python",
   "name": "python3"
  },
  "language_info": {
   "codemirror_mode": {
    "name": "ipython",
    "version": 3
   },
   "file_extension": ".py",
   "mimetype": "text/x-python",
   "name": "python",
   "nbconvert_exporter": "python",
   "pygments_lexer": "ipython3",
   "version": "3.11.7"
  }
 },
 "nbformat": 4,
 "nbformat_minor": 5
}
