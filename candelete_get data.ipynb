{
 "cells": [
  {
   "cell_type": "code",
   "execution_count": 6,
   "id": "d301a82f-c7e6-4fbf-86dd-a8e640a5e610",
   "metadata": {},
   "outputs": [],
   "source": [
    "import pandas as pd\n",
    "from matplotlib import pyplot as plt\n",
    "from datetime import datetime as dt\n",
    "import numpy as np"
   ]
  },
  {
   "cell_type": "code",
   "execution_count": 7,
   "id": "fa581436-e23b-40bc-be3f-8aba21924778",
   "metadata": {},
   "outputs": [],
   "source": [
    "df = pd.read_csv('weather_trips_2022.csv', usecols=['ride_id', 'member_casual', 'DATE', 'TMIN', 'TAVG', 'TMAX'])"
   ]
  },
  {
   "cell_type": "code",
   "execution_count": 8,
   "id": "c16ebf62-4344-4165-a7e7-1a62fc574521",
   "metadata": {},
   "outputs": [
    {
     "data": {
      "text/html": [
       "<div>\n",
       "<style scoped>\n",
       "    .dataframe tbody tr th:only-of-type {\n",
       "        vertical-align: middle;\n",
       "    }\n",
       "\n",
       "    .dataframe tbody tr th {\n",
       "        vertical-align: top;\n",
       "    }\n",
       "\n",
       "    .dataframe thead th {\n",
       "        text-align: right;\n",
       "    }\n",
       "</style>\n",
       "<table border=\"1\" class=\"dataframe\">\n",
       "  <thead>\n",
       "    <tr style=\"text-align: right;\">\n",
       "      <th></th>\n",
       "      <th>ride_id</th>\n",
       "      <th>member_casual</th>\n",
       "      <th>DATE</th>\n",
       "      <th>TMIN</th>\n",
       "      <th>TAVG</th>\n",
       "      <th>TMAX</th>\n",
       "    </tr>\n",
       "  </thead>\n",
       "  <tbody>\n",
       "    <tr>\n",
       "      <th>0</th>\n",
       "      <td>DF208007EE5F9D79</td>\n",
       "      <td>member</td>\n",
       "      <td>2022-08-26</td>\n",
       "      <td>78</td>\n",
       "      <td>81</td>\n",
       "      <td>88</td>\n",
       "    </tr>\n",
       "    <tr>\n",
       "      <th>1</th>\n",
       "      <td>48A796B4996BACB0</td>\n",
       "      <td>member</td>\n",
       "      <td>2022-08-03</td>\n",
       "      <td>74</td>\n",
       "      <td>82</td>\n",
       "      <td>92</td>\n",
       "    </tr>\n",
       "    <tr>\n",
       "      <th>2</th>\n",
       "      <td>AE459F435C0B1D5B</td>\n",
       "      <td>member</td>\n",
       "      <td>2022-08-11</td>\n",
       "      <td>74</td>\n",
       "      <td>80</td>\n",
       "      <td>91</td>\n",
       "    </tr>\n",
       "    <tr>\n",
       "      <th>3</th>\n",
       "      <td>CA8B4A94620E74C0</td>\n",
       "      <td>member</td>\n",
       "      <td>2022-08-10</td>\n",
       "      <td>75</td>\n",
       "      <td>81</td>\n",
       "      <td>86</td>\n",
       "    </tr>\n",
       "    <tr>\n",
       "      <th>4</th>\n",
       "      <td>EB85C6F0148BC348</td>\n",
       "      <td>member</td>\n",
       "      <td>2022-08-31</td>\n",
       "      <td>72</td>\n",
       "      <td>78</td>\n",
       "      <td>85</td>\n",
       "    </tr>\n",
       "  </tbody>\n",
       "</table>\n",
       "</div>"
      ],
      "text/plain": [
       "            ride_id member_casual        DATE  TMIN  TAVG  TMAX\n",
       "0  DF208007EE5F9D79        member  2022-08-26    78    81    88\n",
       "1  48A796B4996BACB0        member  2022-08-03    74    82    92\n",
       "2  AE459F435C0B1D5B        member  2022-08-11    74    80    91\n",
       "3  CA8B4A94620E74C0        member  2022-08-10    75    81    86\n",
       "4  EB85C6F0148BC348        member  2022-08-31    72    78    85"
      ]
     },
     "execution_count": 8,
     "metadata": {},
     "output_type": "execute_result"
    }
   ],
   "source": [
    "df.head()"
   ]
  },
  {
   "cell_type": "code",
   "execution_count": 9,
   "id": "2de534e4-011d-4796-8cac-ff7e0dd4f1c6",
   "metadata": {},
   "outputs": [],
   "source": [
    "df['DATE']=pd.to_datetime(df['DATE'])"
   ]
  },
  {
   "cell_type": "code",
   "execution_count": 10,
   "id": "927b75f2-8a61-4042-95a0-5485f756bd4c",
   "metadata": {},
   "outputs": [
    {
     "data": {
      "text/plain": [
       "ride_id                  object\n",
       "member_casual            object\n",
       "DATE             datetime64[ns]\n",
       "TMIN                      int64\n",
       "TAVG                      int64\n",
       "TMAX                      int64\n",
       "dtype: object"
      ]
     },
     "execution_count": 10,
     "metadata": {},
     "output_type": "execute_result"
    }
   ],
   "source": [
    "df.dtypes"
   ]
  },
  {
   "cell_type": "code",
   "execution_count": 11,
   "id": "f27f5bc8-f49a-4aea-a055-2fa2eeb94309",
   "metadata": {},
   "outputs": [],
   "source": [
    "# Create a line plot of the temperatures for 2022 plotted as time series using the \n",
    "# weather dataframe. For this example, use a pandas plotting function."
   ]
  },
  {
   "cell_type": "code",
   "execution_count": 12,
   "id": "c27a4266-3a66-4572-b60a-464e4f8d879b",
   "metadata": {},
   "outputs": [],
   "source": [
    "# set date as the index\n",
    "df_temp = df.set_index('DATE')"
   ]
  },
  {
   "cell_type": "code",
   "execution_count": 13,
   "id": "333d6483-1f86-46c2-a9c5-e29c88aa1503",
   "metadata": {},
   "outputs": [
    {
     "data": {
      "text/html": [
       "<div>\n",
       "<style scoped>\n",
       "    .dataframe tbody tr th:only-of-type {\n",
       "        vertical-align: middle;\n",
       "    }\n",
       "\n",
       "    .dataframe tbody tr th {\n",
       "        vertical-align: top;\n",
       "    }\n",
       "\n",
       "    .dataframe thead th {\n",
       "        text-align: right;\n",
       "    }\n",
       "</style>\n",
       "<table border=\"1\" class=\"dataframe\">\n",
       "  <thead>\n",
       "    <tr style=\"text-align: right;\">\n",
       "      <th></th>\n",
       "      <th>ride_id</th>\n",
       "      <th>member_casual</th>\n",
       "      <th>TMIN</th>\n",
       "      <th>TAVG</th>\n",
       "      <th>TMAX</th>\n",
       "    </tr>\n",
       "    <tr>\n",
       "      <th>DATE</th>\n",
       "      <th></th>\n",
       "      <th></th>\n",
       "      <th></th>\n",
       "      <th></th>\n",
       "      <th></th>\n",
       "    </tr>\n",
       "  </thead>\n",
       "  <tbody>\n",
       "    <tr>\n",
       "      <th>2022-08-26</th>\n",
       "      <td>DF208007EE5F9D79</td>\n",
       "      <td>member</td>\n",
       "      <td>78</td>\n",
       "      <td>81</td>\n",
       "      <td>88</td>\n",
       "    </tr>\n",
       "    <tr>\n",
       "      <th>2022-08-03</th>\n",
       "      <td>48A796B4996BACB0</td>\n",
       "      <td>member</td>\n",
       "      <td>74</td>\n",
       "      <td>82</td>\n",
       "      <td>92</td>\n",
       "    </tr>\n",
       "    <tr>\n",
       "      <th>2022-08-11</th>\n",
       "      <td>AE459F435C0B1D5B</td>\n",
       "      <td>member</td>\n",
       "      <td>74</td>\n",
       "      <td>80</td>\n",
       "      <td>91</td>\n",
       "    </tr>\n",
       "    <tr>\n",
       "      <th>2022-08-10</th>\n",
       "      <td>CA8B4A94620E74C0</td>\n",
       "      <td>member</td>\n",
       "      <td>75</td>\n",
       "      <td>81</td>\n",
       "      <td>86</td>\n",
       "    </tr>\n",
       "    <tr>\n",
       "      <th>2022-08-31</th>\n",
       "      <td>EB85C6F0148BC348</td>\n",
       "      <td>member</td>\n",
       "      <td>72</td>\n",
       "      <td>78</td>\n",
       "      <td>85</td>\n",
       "    </tr>\n",
       "  </tbody>\n",
       "</table>\n",
       "</div>"
      ],
      "text/plain": [
       "                     ride_id member_casual  TMIN  TAVG  TMAX\n",
       "DATE                                                        \n",
       "2022-08-26  DF208007EE5F9D79        member    78    81    88\n",
       "2022-08-03  48A796B4996BACB0        member    74    82    92\n",
       "2022-08-11  AE459F435C0B1D5B        member    74    80    91\n",
       "2022-08-10  CA8B4A94620E74C0        member    75    81    86\n",
       "2022-08-31  EB85C6F0148BC348        member    72    78    85"
      ]
     },
     "execution_count": 13,
     "metadata": {},
     "output_type": "execute_result"
    }
   ],
   "source": [
    "df_temp.head()"
   ]
  },
  {
   "cell_type": "code",
   "execution_count": 14,
   "id": "dcc78f44-403c-4579-a897-4839365294a7",
   "metadata": {},
   "outputs": [],
   "source": [
    "# Create a column with the count of trips per day and merge it with the weather dataframe"
   ]
  },
  {
   "cell_type": "code",
   "execution_count": 15,
   "id": "fb3c6599-5ade-4cea-897e-dfb7e5a75f6a",
   "metadata": {},
   "outputs": [],
   "source": [
    "df_group = pd.DataFrame (df.groupby (['DATE'])['ride_id'].count()).reset_index()"
   ]
  },
  {
   "cell_type": "code",
   "execution_count": 16,
   "id": "c4ce7aa3-815d-4729-aef0-a044acbfb0fb",
   "metadata": {},
   "outputs": [],
   "source": [
    "df_group.rename(columns={'ride_id': 'count_of_rides_daily'}, inplace = True)"
   ]
  },
  {
   "cell_type": "code",
   "execution_count": 17,
   "id": "9c573823-82a3-4e93-a90f-36b887111cad",
   "metadata": {},
   "outputs": [],
   "source": [
    "df = df.merge(df_group, on = \"DATE\" , how = 'outer', indicator = True)"
   ]
  },
  {
   "cell_type": "code",
   "execution_count": 18,
   "id": "fe5f2698-411b-4fba-a1d0-1392612c8d7a",
   "metadata": {},
   "outputs": [
    {
     "name": "stdout",
     "output_type": "stream",
     "text": [
      "both          30689921\n",
      "left_only            0\n",
      "right_only           0\n",
      "Name: _merge, dtype: int64\n"
     ]
    }
   ],
   "source": [
    "print (df['_merge'].value_counts(dropna=False))"
   ]
  },
  {
   "cell_type": "code",
   "execution_count": 19,
   "id": "2c8022f5-e64d-4f3e-880e-8370ddc16b6b",
   "metadata": {},
   "outputs": [
    {
     "name": "stdout",
     "output_type": "stream",
     "text": [
      "Shape of January 1st is (20895, 8)\n",
      "Shape of January 2nd is (44234, 8)\n"
     ]
    }
   ],
   "source": [
    "print(\"Shape of January 1st is\", df[df['DATE'] == '2022-01-01'].shape) # Check \n",
    "print(\"Shape of January 2nd is\", df[df['DATE'] == '2022-01-02'].shape) # Second check "
   ]
  },
  {
   "cell_type": "code",
   "execution_count": 20,
   "id": "e6705def-53e2-408b-b136-79fc5d504b2a",
   "metadata": {},
   "outputs": [
    {
     "data": {
      "text/html": [
       "<div>\n",
       "<style scoped>\n",
       "    .dataframe tbody tr th:only-of-type {\n",
       "        vertical-align: middle;\n",
       "    }\n",
       "\n",
       "    .dataframe tbody tr th {\n",
       "        vertical-align: top;\n",
       "    }\n",
       "\n",
       "    .dataframe thead th {\n",
       "        text-align: right;\n",
       "    }\n",
       "</style>\n",
       "<table border=\"1\" class=\"dataframe\">\n",
       "  <thead>\n",
       "    <tr style=\"text-align: right;\">\n",
       "      <th></th>\n",
       "      <th>ride_id</th>\n",
       "      <th>member_casual</th>\n",
       "      <th>DATE</th>\n",
       "      <th>TMIN</th>\n",
       "      <th>TAVG</th>\n",
       "      <th>TMAX</th>\n",
       "      <th>count_of_rides_daily</th>\n",
       "      <th>_merge</th>\n",
       "    </tr>\n",
       "  </thead>\n",
       "  <tbody>\n",
       "    <tr>\n",
       "      <th>0</th>\n",
       "      <td>DF208007EE5F9D79</td>\n",
       "      <td>member</td>\n",
       "      <td>2022-08-26</td>\n",
       "      <td>78</td>\n",
       "      <td>81</td>\n",
       "      <td>88</td>\n",
       "      <td>111955</td>\n",
       "      <td>both</td>\n",
       "    </tr>\n",
       "    <tr>\n",
       "      <th>1</th>\n",
       "      <td>4BF322F1E0D74152</td>\n",
       "      <td>member</td>\n",
       "      <td>2022-08-26</td>\n",
       "      <td>78</td>\n",
       "      <td>81</td>\n",
       "      <td>88</td>\n",
       "      <td>111955</td>\n",
       "      <td>both</td>\n",
       "    </tr>\n",
       "    <tr>\n",
       "      <th>2</th>\n",
       "      <td>301E3D811B0D5219</td>\n",
       "      <td>member</td>\n",
       "      <td>2022-08-26</td>\n",
       "      <td>78</td>\n",
       "      <td>81</td>\n",
       "      <td>88</td>\n",
       "      <td>111955</td>\n",
       "      <td>both</td>\n",
       "    </tr>\n",
       "    <tr>\n",
       "      <th>3</th>\n",
       "      <td>7D4E20D0A43FCE1F</td>\n",
       "      <td>casual</td>\n",
       "      <td>2022-08-26</td>\n",
       "      <td>78</td>\n",
       "      <td>81</td>\n",
       "      <td>88</td>\n",
       "      <td>111955</td>\n",
       "      <td>both</td>\n",
       "    </tr>\n",
       "    <tr>\n",
       "      <th>4</th>\n",
       "      <td>BB560C341D35EB7D</td>\n",
       "      <td>member</td>\n",
       "      <td>2022-08-26</td>\n",
       "      <td>78</td>\n",
       "      <td>81</td>\n",
       "      <td>88</td>\n",
       "      <td>111955</td>\n",
       "      <td>both</td>\n",
       "    </tr>\n",
       "  </tbody>\n",
       "</table>\n",
       "</div>"
      ],
      "text/plain": [
       "            ride_id member_casual       DATE  TMIN  TAVG  TMAX  \\\n",
       "0  DF208007EE5F9D79        member 2022-08-26    78    81    88   \n",
       "1  4BF322F1E0D74152        member 2022-08-26    78    81    88   \n",
       "2  301E3D811B0D5219        member 2022-08-26    78    81    88   \n",
       "3  7D4E20D0A43FCE1F        casual 2022-08-26    78    81    88   \n",
       "4  BB560C341D35EB7D        member 2022-08-26    78    81    88   \n",
       "\n",
       "   count_of_rides_daily _merge  \n",
       "0                111955   both  \n",
       "1                111955   both  \n",
       "2                111955   both  \n",
       "3                111955   both  \n",
       "4                111955   both  "
      ]
     },
     "execution_count": 20,
     "metadata": {},
     "output_type": "execute_result"
    }
   ],
   "source": [
    "df.head()"
   ]
  },
  {
   "cell_type": "code",
   "execution_count": 21,
   "id": "c329c394-e40e-4c6d-8d8a-df9c64beaafd",
   "metadata": {},
   "outputs": [
    {
     "data": {
      "text/html": [
       "<div>\n",
       "<style scoped>\n",
       "    .dataframe tbody tr th:only-of-type {\n",
       "        vertical-align: middle;\n",
       "    }\n",
       "\n",
       "    .dataframe tbody tr th {\n",
       "        vertical-align: top;\n",
       "    }\n",
       "\n",
       "    .dataframe thead th {\n",
       "        text-align: right;\n",
       "    }\n",
       "</style>\n",
       "<table border=\"1\" class=\"dataframe\">\n",
       "  <thead>\n",
       "    <tr style=\"text-align: right;\">\n",
       "      <th></th>\n",
       "      <th>ride_id</th>\n",
       "      <th>member_casual</th>\n",
       "      <th>TMIN</th>\n",
       "      <th>TAVG</th>\n",
       "      <th>TMAX</th>\n",
       "    </tr>\n",
       "    <tr>\n",
       "      <th>DATE</th>\n",
       "      <th></th>\n",
       "      <th></th>\n",
       "      <th></th>\n",
       "      <th></th>\n",
       "      <th></th>\n",
       "    </tr>\n",
       "  </thead>\n",
       "  <tbody>\n",
       "    <tr>\n",
       "      <th>2022-08-26</th>\n",
       "      <td>DF208007EE5F9D79</td>\n",
       "      <td>member</td>\n",
       "      <td>78</td>\n",
       "      <td>81</td>\n",
       "      <td>88</td>\n",
       "    </tr>\n",
       "    <tr>\n",
       "      <th>2022-08-03</th>\n",
       "      <td>48A796B4996BACB0</td>\n",
       "      <td>member</td>\n",
       "      <td>74</td>\n",
       "      <td>82</td>\n",
       "      <td>92</td>\n",
       "    </tr>\n",
       "    <tr>\n",
       "      <th>2022-08-11</th>\n",
       "      <td>AE459F435C0B1D5B</td>\n",
       "      <td>member</td>\n",
       "      <td>74</td>\n",
       "      <td>80</td>\n",
       "      <td>91</td>\n",
       "    </tr>\n",
       "    <tr>\n",
       "      <th>2022-08-10</th>\n",
       "      <td>CA8B4A94620E74C0</td>\n",
       "      <td>member</td>\n",
       "      <td>75</td>\n",
       "      <td>81</td>\n",
       "      <td>86</td>\n",
       "    </tr>\n",
       "    <tr>\n",
       "      <th>2022-08-31</th>\n",
       "      <td>EB85C6F0148BC348</td>\n",
       "      <td>member</td>\n",
       "      <td>72</td>\n",
       "      <td>78</td>\n",
       "      <td>85</td>\n",
       "    </tr>\n",
       "  </tbody>\n",
       "</table>\n",
       "</div>"
      ],
      "text/plain": [
       "                     ride_id member_casual  TMIN  TAVG  TMAX\n",
       "DATE                                                        \n",
       "2022-08-26  DF208007EE5F9D79        member    78    81    88\n",
       "2022-08-03  48A796B4996BACB0        member    74    82    92\n",
       "2022-08-11  AE459F435C0B1D5B        member    74    80    91\n",
       "2022-08-10  CA8B4A94620E74C0        member    75    81    86\n",
       "2022-08-31  EB85C6F0148BC348        member    72    78    85"
      ]
     },
     "execution_count": 21,
     "metadata": {},
     "output_type": "execute_result"
    }
   ],
   "source": [
    "df_temp.head()"
   ]
  },
  {
   "cell_type": "code",
   "execution_count": 22,
   "id": "63149326-f6f5-49eb-8739-97e0576b20a5",
   "metadata": {},
   "outputs": [],
   "source": [
    "# Create a line chart of bike trip counts and temperatures plotted on a dual axis"
   ]
  },
  {
   "cell_type": "code",
   "execution_count": 23,
   "id": "03d52ad6-b070-40d8-82b2-046fc0e7d109",
   "metadata": {},
   "outputs": [],
   "source": [
    "# Set date as index\n",
    "df_temp = df.set_index('DATE')"
   ]
  },
  {
   "cell_type": "code",
   "execution_count": 24,
   "id": "da6cf027-c94f-4a14-9309-b03acc4016a8",
   "metadata": {},
   "outputs": [
    {
     "data": {
      "text/html": [
       "<div>\n",
       "<style scoped>\n",
       "    .dataframe tbody tr th:only-of-type {\n",
       "        vertical-align: middle;\n",
       "    }\n",
       "\n",
       "    .dataframe tbody tr th {\n",
       "        vertical-align: top;\n",
       "    }\n",
       "\n",
       "    .dataframe thead th {\n",
       "        text-align: right;\n",
       "    }\n",
       "</style>\n",
       "<table border=\"1\" class=\"dataframe\">\n",
       "  <thead>\n",
       "    <tr style=\"text-align: right;\">\n",
       "      <th></th>\n",
       "      <th>ride_id</th>\n",
       "      <th>member_casual</th>\n",
       "      <th>TMIN</th>\n",
       "      <th>TAVG</th>\n",
       "      <th>TMAX</th>\n",
       "      <th>count_of_rides_daily</th>\n",
       "      <th>_merge</th>\n",
       "    </tr>\n",
       "    <tr>\n",
       "      <th>DATE</th>\n",
       "      <th></th>\n",
       "      <th></th>\n",
       "      <th></th>\n",
       "      <th></th>\n",
       "      <th></th>\n",
       "      <th></th>\n",
       "      <th></th>\n",
       "    </tr>\n",
       "  </thead>\n",
       "  <tbody>\n",
       "    <tr>\n",
       "      <th>2022-08-26</th>\n",
       "      <td>DF208007EE5F9D79</td>\n",
       "      <td>member</td>\n",
       "      <td>78</td>\n",
       "      <td>81</td>\n",
       "      <td>88</td>\n",
       "      <td>111955</td>\n",
       "      <td>both</td>\n",
       "    </tr>\n",
       "    <tr>\n",
       "      <th>2022-08-26</th>\n",
       "      <td>4BF322F1E0D74152</td>\n",
       "      <td>member</td>\n",
       "      <td>78</td>\n",
       "      <td>81</td>\n",
       "      <td>88</td>\n",
       "      <td>111955</td>\n",
       "      <td>both</td>\n",
       "    </tr>\n",
       "    <tr>\n",
       "      <th>2022-08-26</th>\n",
       "      <td>301E3D811B0D5219</td>\n",
       "      <td>member</td>\n",
       "      <td>78</td>\n",
       "      <td>81</td>\n",
       "      <td>88</td>\n",
       "      <td>111955</td>\n",
       "      <td>both</td>\n",
       "    </tr>\n",
       "    <tr>\n",
       "      <th>2022-08-26</th>\n",
       "      <td>7D4E20D0A43FCE1F</td>\n",
       "      <td>casual</td>\n",
       "      <td>78</td>\n",
       "      <td>81</td>\n",
       "      <td>88</td>\n",
       "      <td>111955</td>\n",
       "      <td>both</td>\n",
       "    </tr>\n",
       "    <tr>\n",
       "      <th>2022-08-26</th>\n",
       "      <td>BB560C341D35EB7D</td>\n",
       "      <td>member</td>\n",
       "      <td>78</td>\n",
       "      <td>81</td>\n",
       "      <td>88</td>\n",
       "      <td>111955</td>\n",
       "      <td>both</td>\n",
       "    </tr>\n",
       "  </tbody>\n",
       "</table>\n",
       "</div>"
      ],
      "text/plain": [
       "                     ride_id member_casual  TMIN  TAVG  TMAX  \\\n",
       "DATE                                                           \n",
       "2022-08-26  DF208007EE5F9D79        member    78    81    88   \n",
       "2022-08-26  4BF322F1E0D74152        member    78    81    88   \n",
       "2022-08-26  301E3D811B0D5219        member    78    81    88   \n",
       "2022-08-26  7D4E20D0A43FCE1F        casual    78    81    88   \n",
       "2022-08-26  BB560C341D35EB7D        member    78    81    88   \n",
       "\n",
       "            count_of_rides_daily _merge  \n",
       "DATE                                     \n",
       "2022-08-26                111955   both  \n",
       "2022-08-26                111955   both  \n",
       "2022-08-26                111955   both  \n",
       "2022-08-26                111955   both  \n",
       "2022-08-26                111955   both  "
      ]
     },
     "execution_count": 24,
     "metadata": {},
     "output_type": "execute_result"
    }
   ],
   "source": [
    "df_temp.head()"
   ]
  },
  {
   "cell_type": "code",
   "execution_count": 44,
   "id": "6378c5f9-8880-4518-a4d6-87d7123fef3c",
   "metadata": {},
   "outputs": [],
   "source": [
    "df_temp.to_csv('weather_trips_version2.csv', index=False)"
   ]
  },
  {
   "cell_type": "code",
   "execution_count": null,
   "id": "1f6bf4d5-bb2f-46bf-b3f3-7e4d0f01f56c",
   "metadata": {},
   "outputs": [],
   "source": []
  }
 ],
 "metadata": {
  "kernelspec": {
   "display_name": "Python [conda env:venv_citibike]",
   "language": "python",
   "name": "conda-env-venv_citibike-py"
  },
  "language_info": {
   "codemirror_mode": {
    "name": "ipython",
    "version": 3
   },
   "file_extension": ".py",
   "mimetype": "text/x-python",
   "name": "python",
   "nbconvert_exporter": "python",
   "pygments_lexer": "ipython3",
   "version": "3.12.4"
  }
 },
 "nbformat": 4,
 "nbformat_minor": 5
}
